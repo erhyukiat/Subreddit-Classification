{
 "cells": [
  {
   "cell_type": "markdown",
   "id": "af706138",
   "metadata": {},
   "source": [
    "# Project 3: Subreddit Classification\n",
    "---"
   ]
  },
  {
   "cell_type": "markdown",
   "id": "935517d3",
   "metadata": {},
   "source": [
    "Problem Statement\n",
    "---"
   ]
  },
  {
   "cell_type": "markdown",
   "id": "2990533d-d14c-440b-8069-d9d1d2a2cfed",
   "metadata": {},
   "source": [
    "The \"TheOnion\" subreddit is a subreddit where users can post news articles found on https://www.theonion.com, which is a satirical news site. It is fairly well known that The Onion articles are all satirical in nature, so the news titles usually sound ridiculous. The \"nottheonion\" subreddit is a subreddit where users can post news articles of true stories that are so mind-blowingly ridiculous that you could have sworn they were from The Onion.\n",
    "\n",
    "When performing maintenance, an engineer accidentally deleted multiple posts from r/nottheonion and r/theonion. Unfortunately, the engineer was only able to recover the titles of the lost posts. We were therefore tasked to build a classification model which would train on posts submitted before 2022 to classify the recovered posts back to their respective subreddits, r/nottheonion and r/theonion, based solely on the post titles.\n",
    "\n",
    "Reddit has been thinking of developing machine learning models for automoderators, therefore, we will also be making use of this opportunity to do a proof of concept that machine learning (ML) models could be used to develop automoderators. Moderators are currently spending a substantial amount of their time reviewing user reports and deleting irrelevant posts from the subreddit. In theory, if automoderators developed through ML were deployed, it would be able to classify whether a posts belongs in the subreddit it is in or not. Having automoderators police the subreddit for irrelevant posts would free up time for human moderators, who are volunteers, to do things that they want to do.\n",
    "\n",
    "We will explore using four models (Random Forest Classifier, Logistic Regression, Multinomial Naive Bayes and Support Vector Classifier) and select the model that is the most successful in classifying the subreddit posts. Success will be evaluated through the accuracy score and F1 score, as we want both false positives and false negatives to be minimised."
   ]
  },
  {
   "cell_type": "markdown",
   "id": "95785e4b",
   "metadata": {
    "tags": []
   },
   "source": [
    "Executive Summary\n",
    "---"
   ]
  },
  {
   "cell_type": "markdown",
   "id": "f2a2371e-ddef-4743-9b01-6cff42fc5e27",
   "metadata": {},
   "source": [
    "Data was collected from two subreddits, r/TheOnion and r/nottheonion, using the PushShift API. A total of 4000 posts were collected, 2000 from each subreddit. As it is possible that the same post could be posted multiple times to farm Reddit karma, we ensured that no duplicate posts or reposts were collected by searching through the list of posts scraped at that point in time. After dropping data fields that seemed irrelevant during the data collection step, the data was loaded into a data frame, and analysis was performed on the titles of the posts using Natural Language Processing techniques. \n",
    "\n",
    "The data was found to have no missing values, which is expected since the data comes from Reddit. The average post lengths in terms of both character lengths and word lengths were similar between the two subreddits. The title text was converted into a bag of words using CountVectorizer for further analysis. The most popular unigrams and bigrams for r/TheOnion indicated that satirical article titles are up-to-date with current affairs, as they mention US politics and the global pandemic. As for r/nottheonion, it indicated that the ridiculous news usually involved a person, and more often than not, a \"Florida man\".\n",
    "\n",
    "The title text of the posts were preprocessed by removing stopwords from the nltk library, and lemmatized using the WordNetLemmatizer, before it was fed into a pipeline containing TfidfVectorizer and a classification model. A total of 4 classification models were explored: Random Forest, Logistic Regression, Multinomial Naive Bayes and Support Vector Machine. GridSearchCV was used to tune the hyperparameters of the TfidfVectorizer and the classification models. A 75/25 train test split was performed before feeding the data into each pipeline. Each model was evaluated using the accuracy score and F1 score. The confusion matrix and ROC curves were also analysed to see if the findings matched the accuracy and F1 scores. The best performing model was found to be the Support Vector Classifier with an accuracy of 79%. Given that this is the first iteration of a possible ML automoderator, the results are promising and show that ML automoderators are feasible."
   ]
  },
  {
   "cell_type": "markdown",
   "id": "d735ef61",
   "metadata": {
    "tags": []
   },
   "source": [
    "Exploratory Data Analysis  \n",
    "---"
   ]
  },
  {
   "cell_type": "code",
   "execution_count": 1,
   "id": "f5ec75f0-4931-4a8b-8340-028122ae25f7",
   "metadata": {},
   "outputs": [],
   "source": [
    "import numpy as np\n",
    "import pandas as pd\n",
    "import seaborn as sns\n",
    "import matplotlib.pyplot as plt\n",
    "import re\n",
    "\n",
    "from sklearn.dummy import DummyClassifier\n",
    "from sklearn.linear_model import LogisticRegression\n",
    "from sklearn.model_selection import train_test_split, GridSearchCV, cross_val_score\n",
    "from sklearn.pipeline import Pipeline\n",
    "from sklearn.naive_bayes import MultinomialNB\n",
    "from sklearn.feature_extraction.text import CountVectorizer, TfidfVectorizer\n",
    "from sklearn.ensemble import RandomForestClassifier\n",
    "from sklearn.metrics import confusion_matrix, f1_score, plot_roc_curve, ConfusionMatrixDisplay\n",
    "from sklearn.svm import SVC\n",
    "\n",
    "from nltk.stem import WordNetLemmatizer\n",
    "from nltk.corpus import stopwords"
   ]
  },
  {
   "cell_type": "markdown",
   "id": "5509c458-833a-432f-8f56-d0bff06d4a73",
   "metadata": {},
   "source": [
    "### Data Dictionary"
   ]
  },
  {
   "cell_type": "markdown",
   "id": "1155f56e-6e21-460b-a70e-a49f27756322",
   "metadata": {},
   "source": [
    "| Field       | Description                          |\n",
    "|-------------|--------------------------------------|\n",
    "| author      | Author of the post                   |\n",
    "| created_utc | Unix time of post creation           |\n",
    "| domain      | Domain of the URL linked in the post |\n",
    "| full_link   | Reddit URL to the post               |\n",
    "| id          | Unique id of the post                |\n",
    "| subreddit   | Subreddit of the post                |\n",
    "| title       | Title of the post                    |\n",
    "| url         | URL linked in the post               |"
   ]
  },
  {
   "cell_type": "markdown",
   "id": "e682d0ae-d2da-453c-8456-f1f78a403cf3",
   "metadata": {},
   "source": [
    "### Read data"
   ]
  },
  {
   "cell_type": "code",
   "execution_count": 2,
   "id": "a0dab9f5-754e-4554-8d42-fdc2f13b2a92",
   "metadata": {
    "scrolled": true,
    "tags": []
   },
   "outputs": [
    {
     "data": {
      "text/plain": [
       "(4000, 8)"
      ]
     },
     "execution_count": 2,
     "metadata": {},
     "output_type": "execute_result"
    }
   ],
   "source": [
    "# import data to DataFrame\n",
    "subreddit_posts = pd.read_csv(\"../data/theonion_nottheonion_posts.csv\")\n",
    "subreddit_posts.shape"
   ]
  },
  {
   "cell_type": "code",
   "execution_count": 3,
   "id": "c4b1f042-f0ba-43b0-b77f-6efe2f37b07e",
   "metadata": {},
   "outputs": [
    {
     "data": {
      "text/html": [
       "<div>\n",
       "<style scoped>\n",
       "    .dataframe tbody tr th:only-of-type {\n",
       "        vertical-align: middle;\n",
       "    }\n",
       "\n",
       "    .dataframe tbody tr th {\n",
       "        vertical-align: top;\n",
       "    }\n",
       "\n",
       "    .dataframe thead th {\n",
       "        text-align: right;\n",
       "    }\n",
       "</style>\n",
       "<table border=\"1\" class=\"dataframe\">\n",
       "  <thead>\n",
       "    <tr style=\"text-align: right;\">\n",
       "      <th></th>\n",
       "      <th>author</th>\n",
       "      <th>created_utc</th>\n",
       "      <th>domain</th>\n",
       "      <th>full_link</th>\n",
       "      <th>id</th>\n",
       "      <th>subreddit</th>\n",
       "      <th>title</th>\n",
       "      <th>url</th>\n",
       "    </tr>\n",
       "  </thead>\n",
       "  <tbody>\n",
       "    <tr>\n",
       "      <th>0</th>\n",
       "      <td>mothershipq</td>\n",
       "      <td>1640973300</td>\n",
       "      <td>theonion.com</td>\n",
       "      <td>https://www.reddit.com/r/TheOnion/comments/rsz...</td>\n",
       "      <td>rszeht</td>\n",
       "      <td>TheOnion</td>\n",
       "      <td>Surgeon Kind Of Pissed Patient Seeing Her Defo...</td>\n",
       "      <td>https://www.theonion.com/surgeon-kind-of-pisse...</td>\n",
       "    </tr>\n",
       "    <tr>\n",
       "      <th>1</th>\n",
       "      <td>-ImYourHuckleberry-</td>\n",
       "      <td>1640971771</td>\n",
       "      <td>theartnewspaper.com</td>\n",
       "      <td>https://www.reddit.com/r/TheOnion/comments/rsy...</td>\n",
       "      <td>rsyv0j</td>\n",
       "      <td>TheOnion</td>\n",
       "      <td>McDonald’s blocked from building drive-through...</td>\n",
       "      <td>https://www.theartnewspaper.com/2021/12/31/mcd...</td>\n",
       "    </tr>\n",
       "    <tr>\n",
       "      <th>2</th>\n",
       "      <td>dwaxe</td>\n",
       "      <td>1640955671</td>\n",
       "      <td>theonion.com</td>\n",
       "      <td>https://www.reddit.com/r/TheOnion/comments/rst...</td>\n",
       "      <td>rstfnv</td>\n",
       "      <td>TheOnion</td>\n",
       "      <td>Gwyneth Paltrow Touts New Diamond-Encrusted Tr...</td>\n",
       "      <td>https://www.theonion.com/gwyneth-paltrow-touts...</td>\n",
       "    </tr>\n",
       "    <tr>\n",
       "      <th>3</th>\n",
       "      <td>dwaxe</td>\n",
       "      <td>1640955669</td>\n",
       "      <td>theonion.com</td>\n",
       "      <td>https://www.reddit.com/r/TheOnion/comments/rst...</td>\n",
       "      <td>rstfn1</td>\n",
       "      <td>TheOnion</td>\n",
       "      <td>Artist Crafting Music Box Hopes It Delights At...</td>\n",
       "      <td>https://www.theonion.com/artist-crafting-music...</td>\n",
       "    </tr>\n",
       "    <tr>\n",
       "      <th>4</th>\n",
       "      <td>dwaxe</td>\n",
       "      <td>1640955668</td>\n",
       "      <td>theonion.com</td>\n",
       "      <td>https://www.reddit.com/r/TheOnion/comments/rst...</td>\n",
       "      <td>rstfmf</td>\n",
       "      <td>TheOnion</td>\n",
       "      <td>Homeowner Trying To Smoke Out Snakes Accidenta...</td>\n",
       "      <td>https://www.theonion.com/homeowner-trying-to-s...</td>\n",
       "    </tr>\n",
       "  </tbody>\n",
       "</table>\n",
       "</div>"
      ],
      "text/plain": [
       "                author  created_utc               domain  \\\n",
       "0          mothershipq   1640973300         theonion.com   \n",
       "1  -ImYourHuckleberry-   1640971771  theartnewspaper.com   \n",
       "2                dwaxe   1640955671         theonion.com   \n",
       "3                dwaxe   1640955669         theonion.com   \n",
       "4                dwaxe   1640955668         theonion.com   \n",
       "\n",
       "                                           full_link      id subreddit  \\\n",
       "0  https://www.reddit.com/r/TheOnion/comments/rsz...  rszeht  TheOnion   \n",
       "1  https://www.reddit.com/r/TheOnion/comments/rsy...  rsyv0j  TheOnion   \n",
       "2  https://www.reddit.com/r/TheOnion/comments/rst...  rstfnv  TheOnion   \n",
       "3  https://www.reddit.com/r/TheOnion/comments/rst...  rstfn1  TheOnion   \n",
       "4  https://www.reddit.com/r/TheOnion/comments/rst...  rstfmf  TheOnion   \n",
       "\n",
       "                                               title  \\\n",
       "0  Surgeon Kind Of Pissed Patient Seeing Her Defo...   \n",
       "1  McDonald’s blocked from building drive-through...   \n",
       "2  Gwyneth Paltrow Touts New Diamond-Encrusted Tr...   \n",
       "3  Artist Crafting Music Box Hopes It Delights At...   \n",
       "4  Homeowner Trying To Smoke Out Snakes Accidenta...   \n",
       "\n",
       "                                                 url  \n",
       "0  https://www.theonion.com/surgeon-kind-of-pisse...  \n",
       "1  https://www.theartnewspaper.com/2021/12/31/mcd...  \n",
       "2  https://www.theonion.com/gwyneth-paltrow-touts...  \n",
       "3  https://www.theonion.com/artist-crafting-music...  \n",
       "4  https://www.theonion.com/homeowner-trying-to-s...  "
      ]
     },
     "execution_count": 3,
     "metadata": {},
     "output_type": "execute_result"
    }
   ],
   "source": [
    "# looking at the first 5 records (from r/TheOnion)\n",
    "subreddit_posts.head()"
   ]
  },
  {
   "cell_type": "code",
   "execution_count": 4,
   "id": "16240fe2-3b0a-4f2e-9d9c-b75a51d0e4b6",
   "metadata": {},
   "outputs": [
    {
     "data": {
      "text/html": [
       "<div>\n",
       "<style scoped>\n",
       "    .dataframe tbody tr th:only-of-type {\n",
       "        vertical-align: middle;\n",
       "    }\n",
       "\n",
       "    .dataframe tbody tr th {\n",
       "        vertical-align: top;\n",
       "    }\n",
       "\n",
       "    .dataframe thead th {\n",
       "        text-align: right;\n",
       "    }\n",
       "</style>\n",
       "<table border=\"1\" class=\"dataframe\">\n",
       "  <thead>\n",
       "    <tr style=\"text-align: right;\">\n",
       "      <th></th>\n",
       "      <th>author</th>\n",
       "      <th>created_utc</th>\n",
       "      <th>domain</th>\n",
       "      <th>full_link</th>\n",
       "      <th>id</th>\n",
       "      <th>subreddit</th>\n",
       "      <th>title</th>\n",
       "      <th>url</th>\n",
       "    </tr>\n",
       "  </thead>\n",
       "  <tbody>\n",
       "    <tr>\n",
       "      <th>3995</th>\n",
       "      <td>everything_is_bad</td>\n",
       "      <td>1639452196</td>\n",
       "      <td>dailymail.co.uk</td>\n",
       "      <td>https://www.reddit.com/r/nottheonion/comments/...</td>\n",
       "      <td>rfxx1k</td>\n",
       "      <td>nottheonion</td>\n",
       "      <td>Michigan school shooter Ethan Crumbley, 15, as...</td>\n",
       "      <td>https://www.dailymail.co.uk/news/article-10305...</td>\n",
       "    </tr>\n",
       "    <tr>\n",
       "      <th>3996</th>\n",
       "      <td>traker998</td>\n",
       "      <td>1639452130</td>\n",
       "      <td>dailymail.co.uk</td>\n",
       "      <td>https://www.reddit.com/r/nottheonion/comments/...</td>\n",
       "      <td>rfxwar</td>\n",
       "      <td>nottheonion</td>\n",
       "      <td>Scientists studying microplastics in Antarctic...</td>\n",
       "      <td>https://www.dailymail.co.uk/sciencetech/articl...</td>\n",
       "    </tr>\n",
       "    <tr>\n",
       "      <th>3997</th>\n",
       "      <td>traker998</td>\n",
       "      <td>1639452005</td>\n",
       "      <td>telegraph.co.uk</td>\n",
       "      <td>https://www.reddit.com/r/nottheonion/comments/...</td>\n",
       "      <td>rfxuwu</td>\n",
       "      <td>nottheonion</td>\n",
       "      <td>Scientists studying microplastics in Antarctic...</td>\n",
       "      <td>https://www.telegraph.co.uk/news/2021/12/13/sc...</td>\n",
       "    </tr>\n",
       "    <tr>\n",
       "      <th>3998</th>\n",
       "      <td>caneel_bay</td>\n",
       "      <td>1639450817</td>\n",
       "      <td>jalopnik.com</td>\n",
       "      <td>https://www.reddit.com/r/nottheonion/comments/...</td>\n",
       "      <td>rfxgxq</td>\n",
       "      <td>nottheonion</td>\n",
       "      <td>NY Congressional Candidate Claims To Use An Ab...</td>\n",
       "      <td>https://jalopnik.com/new-york-congressional-ca...</td>\n",
       "    </tr>\n",
       "    <tr>\n",
       "      <th>3999</th>\n",
       "      <td>MatiasPalacios</td>\n",
       "      <td>1639449909</td>\n",
       "      <td>abc3340.com</td>\n",
       "      <td>https://www.reddit.com/r/nottheonion/comments/...</td>\n",
       "      <td>rfx6fh</td>\n",
       "      <td>nottheonion</td>\n",
       "      <td>Nearly 70-year-old murals taken down at Univer...</td>\n",
       "      <td>https://abc3340.com/news/nation-world/nearly-7...</td>\n",
       "    </tr>\n",
       "  </tbody>\n",
       "</table>\n",
       "</div>"
      ],
      "text/plain": [
       "                 author  created_utc           domain  \\\n",
       "3995  everything_is_bad   1639452196  dailymail.co.uk   \n",
       "3996          traker998   1639452130  dailymail.co.uk   \n",
       "3997          traker998   1639452005  telegraph.co.uk   \n",
       "3998         caneel_bay   1639450817     jalopnik.com   \n",
       "3999     MatiasPalacios   1639449909      abc3340.com   \n",
       "\n",
       "                                              full_link      id    subreddit  \\\n",
       "3995  https://www.reddit.com/r/nottheonion/comments/...  rfxx1k  nottheonion   \n",
       "3996  https://www.reddit.com/r/nottheonion/comments/...  rfxwar  nottheonion   \n",
       "3997  https://www.reddit.com/r/nottheonion/comments/...  rfxuwu  nottheonion   \n",
       "3998  https://www.reddit.com/r/nottheonion/comments/...  rfxgxq  nottheonion   \n",
       "3999  https://www.reddit.com/r/nottheonion/comments/...  rfx6fh  nottheonion   \n",
       "\n",
       "                                                  title  \\\n",
       "3995  Michigan school shooter Ethan Crumbley, 15, as...   \n",
       "3996  Scientists studying microplastics in Antarctic...   \n",
       "3997  Scientists studying microplastics in Antarctic...   \n",
       "3998  NY Congressional Candidate Claims To Use An Ab...   \n",
       "3999  Nearly 70-year-old murals taken down at Univer...   \n",
       "\n",
       "                                                    url  \n",
       "3995  https://www.dailymail.co.uk/news/article-10305...  \n",
       "3996  https://www.dailymail.co.uk/sciencetech/articl...  \n",
       "3997  https://www.telegraph.co.uk/news/2021/12/13/sc...  \n",
       "3998  https://jalopnik.com/new-york-congressional-ca...  \n",
       "3999  https://abc3340.com/news/nation-world/nearly-7...  "
      ]
     },
     "execution_count": 4,
     "metadata": {},
     "output_type": "execute_result"
    }
   ],
   "source": [
    "# looking at the last 5 records (from r/nottheonion)\n",
    "subreddit_posts.tail()"
   ]
  },
  {
   "cell_type": "code",
   "execution_count": 5,
   "id": "f9c07b3e-367b-45b8-a7ee-590e9f2b149e",
   "metadata": {},
   "outputs": [
    {
     "data": {
      "text/plain": [
       "author         0\n",
       "created_utc    0\n",
       "domain         0\n",
       "full_link      0\n",
       "id             0\n",
       "subreddit      0\n",
       "title          0\n",
       "url            0\n",
       "dtype: int64"
      ]
     },
     "execution_count": 5,
     "metadata": {},
     "output_type": "execute_result"
    }
   ],
   "source": [
    "subreddit_posts.isna().sum()"
   ]
  },
  {
   "cell_type": "markdown",
   "id": "0276b589-1038-4c4f-872e-799f09b844d0",
   "metadata": {},
   "source": [
    "No missing values found."
   ]
  },
  {
   "cell_type": "code",
   "execution_count": 6,
   "id": "b64abefd-60f9-4e9d-9523-771a30126948",
   "metadata": {},
   "outputs": [
    {
     "data": {
      "text/plain": [
       "2000"
      ]
     },
     "execution_count": 6,
     "metadata": {},
     "output_type": "execute_result"
    }
   ],
   "source": [
    "# checking for duplicate posts within r/TheOnion\n",
    "subreddit_posts[subreddit_posts['subreddit']==\"TheOnion\"]['id'].nunique()"
   ]
  },
  {
   "cell_type": "code",
   "execution_count": 7,
   "id": "c9f65de8-4d92-4881-a941-8489e2d60fea",
   "metadata": {},
   "outputs": [
    {
     "data": {
      "text/plain": [
       "2000"
      ]
     },
     "execution_count": 7,
     "metadata": {},
     "output_type": "execute_result"
    }
   ],
   "source": [
    "# checking for posts with duplicate titles within r/TheOnion\n",
    "subreddit_posts[subreddit_posts['subreddit']==\"TheOnion\"]['title'].nunique()"
   ]
  },
  {
   "cell_type": "code",
   "execution_count": 8,
   "id": "18bc4952-8a7a-407f-bb27-74e0e7cdc58c",
   "metadata": {},
   "outputs": [
    {
     "data": {
      "text/plain": [
       "2000"
      ]
     },
     "execution_count": 8,
     "metadata": {},
     "output_type": "execute_result"
    }
   ],
   "source": [
    "# checking for posts with duplicate urls within r/TheOnion\n",
    "subreddit_posts[subreddit_posts['subreddit']==\"TheOnion\"]['url'].nunique()"
   ]
  },
  {
   "cell_type": "markdown",
   "id": "7dfa69b4-92bf-4ac0-95a3-516342033f8f",
   "metadata": {},
   "source": [
    "No duplicate posts (based on 'id') or posts with duplicate content (containing same title or same url) were found in the posts scraped from r/TheOnion. Duplicate posts or posts with duplicate content were already accounted for in the scraping."
   ]
  },
  {
   "cell_type": "code",
   "execution_count": 9,
   "id": "e4730912-919d-4f11-b5bd-adb016e2a89c",
   "metadata": {},
   "outputs": [
    {
     "data": {
      "text/plain": [
       "2000"
      ]
     },
     "execution_count": 9,
     "metadata": {},
     "output_type": "execute_result"
    }
   ],
   "source": [
    "# checking for duplicate posts within r/nottheonion\n",
    "subreddit_posts[subreddit_posts['subreddit']==\"nottheonion\"]['id'].nunique()"
   ]
  },
  {
   "cell_type": "code",
   "execution_count": 10,
   "id": "c82a0f56-042a-4943-9a1e-c319bf3bb08a",
   "metadata": {},
   "outputs": [
    {
     "data": {
      "text/plain": [
       "2000"
      ]
     },
     "execution_count": 10,
     "metadata": {},
     "output_type": "execute_result"
    }
   ],
   "source": [
    "# checking for posts with duplicate titles within r/nottheonion\n",
    "subreddit_posts[subreddit_posts['subreddit']==\"nottheonion\"]['title'].nunique()"
   ]
  },
  {
   "cell_type": "code",
   "execution_count": 11,
   "id": "f1684091-a705-40fb-8f06-a0925f1fe90a",
   "metadata": {},
   "outputs": [
    {
     "data": {
      "text/plain": [
       "2000"
      ]
     },
     "execution_count": 11,
     "metadata": {},
     "output_type": "execute_result"
    }
   ],
   "source": [
    "# checking for posts with duplicate urls within r/nottheonion\n",
    "subreddit_posts[subreddit_posts['subreddit']==\"nottheonion\"]['url'].nunique()"
   ]
  },
  {
   "cell_type": "markdown",
   "id": "fa27e914-38e8-40c1-b336-7e072fc079d7",
   "metadata": {},
   "source": [
    "No duplicate posts (based on 'id') or posts with duplicate content (containing same title or same url) were found in the posts scraped from r/nothteonion. Duplicate posts or posts with duplicate content were already accounted for in the scraping."
   ]
  },
  {
   "cell_type": "code",
   "execution_count": 12,
   "id": "8b63eb60-214a-47e1-aea9-cec878b3bd93",
   "metadata": {},
   "outputs": [
    {
     "data": {
      "text/plain": [
       "theonion.com                  1172\n",
       "politics.theonion.com          142\n",
       "local.theonion.com             115\n",
       "youtube.com                     83\n",
       "youtu.be                        79\n",
       "ogn.theonion.com                73\n",
       "i.redd.it                       71\n",
       "entertainment.theonion.com      70\n",
       "sports.theonion.com             52\n",
       "reddit.com                      11\n",
       "Name: domain, dtype: int64"
      ]
     },
     "execution_count": 12,
     "metadata": {},
     "output_type": "execute_result"
    }
   ],
   "source": [
    "# top 10 most referenced domain in r/TheOnion\n",
    "subreddit_posts[subreddit_posts['subreddit']==\"TheOnion\"]['domain'].value_counts().head(10)"
   ]
  },
  {
   "cell_type": "markdown",
   "id": "1be972a4-ce4c-4c46-b97f-62183377388c",
   "metadata": {},
   "source": [
    "Majority of posts are from theonion.com, which is unsurprising since r/TheOnion only allows posts from The Onion"
   ]
  },
  {
   "cell_type": "code",
   "execution_count": 13,
   "id": "55f35e83-5db4-4cf0-aecf-9b936d1c04e8",
   "metadata": {},
   "outputs": [
    {
     "data": {
      "text/plain": [
       "starlightinternational786.world    76\n",
       "virlan.co                          69\n",
       "theguardian.com                    60\n",
       "youtu.be                           43\n",
       "bbc.com                            36\n",
       "cnn.com                            35\n",
       "nypost.com                         33\n",
       "foxnews.com                        32\n",
       "apnews.com                         30\n",
       "dailymail.co.uk                    29\n",
       "Name: domain, dtype: int64"
      ]
     },
     "execution_count": 13,
     "metadata": {},
     "output_type": "execute_result"
    }
   ],
   "source": [
    "# top 10 most referenced domain in r/nottheonion\n",
    "subreddit_posts[subreddit_posts['subreddit']==\"nottheonion\"]['domain'].value_counts().head(10)"
   ]
  },
  {
   "cell_type": "markdown",
   "id": "4c56ab5c-ac91-4a59-a6d2-6be15cd2559c",
   "metadata": {},
   "source": [
    "Of the top 10 referenced domains in r/nottheonion, 8 are news websites, which is unsurprising. What is surprising are the top 2 domains, starlightinternational786 and virlan. starlightinternational786 is a blog that posts on multiple topics, and virlan is a website that posts trending and viral news. They could be hosting trending or viral news on their website in order to generate traffic."
   ]
  },
  {
   "cell_type": "code",
   "execution_count": 14,
   "id": "6776d134-4cdd-476d-b28b-0866c53f4007",
   "metadata": {},
   "outputs": [
    {
     "data": {
      "text/plain": [
       "dwaxe             308\n",
       "aresef            276\n",
       "Sanlear           128\n",
       "ThatsMyPhoenix     90\n",
       "coolwali           68\n",
       "TheGuvnor247       67\n",
       "mothershipq        63\n",
       "El_Zarco           44\n",
       "Exastiken          38\n",
       "[deleted]          25\n",
       "Name: author, dtype: int64"
      ]
     },
     "execution_count": 14,
     "metadata": {},
     "output_type": "execute_result"
    }
   ],
   "source": [
    "# top 10 posters in r/TheOnion\n",
    "subreddit_posts[subreddit_posts['subreddit']==\"TheOnion\"]['author'].value_counts().head(10)"
   ]
  },
  {
   "cell_type": "markdown",
   "id": "4d25dc3b-ef75-4899-80a8-abb2e99648c6",
   "metadata": {},
   "source": [
    "There are many frequent posters in r/TheOnion. This could be because posts in r/TheOnion are mostly satirical posts from theonion.com so people can easily post it in the subreddit."
   ]
  },
  {
   "cell_type": "code",
   "execution_count": 15,
   "id": "67b314ab-f5f1-4042-a1a8-b4de7ac56618",
   "metadata": {},
   "outputs": [
    {
     "data": {
      "text/plain": [
       "Starlight-786           102\n",
       "virlan4trendnews         70\n",
       "-Omegamart-              31\n",
       "Darth_Kahuna             31\n",
       "[deleted]                26\n",
       "XGN_Freshly              26\n",
       "SelectiveSanity          20\n",
       "geekman20                15\n",
       "RealityCrave             10\n",
       "Naive-Helicopter-700      9\n",
       "Name: author, dtype: int64"
      ]
     },
     "execution_count": 15,
     "metadata": {},
     "output_type": "execute_result"
    }
   ],
   "source": [
    "# top 10 posters in r/nottheonion\n",
    "subreddit_posts[subreddit_posts['subreddit']==\"nottheonion\"]['author'].value_counts().head(10)"
   ]
  },
  {
   "cell_type": "markdown",
   "id": "c5a5cd09-7e6a-4200-be58-fc024367d735",
   "metadata": {},
   "source": [
    "The top 2 authors are Starlight-786 and virlan4trendnews. This coincides with the most referenced domain, and they could be posting trending or viral news to r/nottheonion to generate traffic to their respective websites. "
   ]
  },
  {
   "cell_type": "markdown",
   "id": "a3e8d93d-011d-4bf2-ab7f-a100f9ce14db",
   "metadata": {},
   "source": [
    "There is a '\\[deleted\\]' author in both r/TheOnion and r/nottheonion. This means the reddit account was deleted, and does not mean that there is an author with the name '\\[deleted\\]'. Since all deleted accounts will be labeled as such, it is unlikely that it had belonged to the same author."
   ]
  },
  {
   "cell_type": "markdown",
   "id": "9832c014-457e-483c-b07b-e24a4bf006ac",
   "metadata": {
    "tags": []
   },
   "source": [
    "#### Post character count"
   ]
  },
  {
   "cell_type": "code",
   "execution_count": 16,
   "id": "31c468cd-4e9b-4ad4-bb20-aa240c9184fa",
   "metadata": {},
   "outputs": [],
   "source": [
    "# generating new column in DataFrame containing character count\n",
    "subreddit_posts['char_count'] = subreddit_posts['title'].apply(len)"
   ]
  },
  {
   "cell_type": "code",
   "execution_count": 17,
   "id": "99eb536b-51d7-42fd-995a-1a4a957da248",
   "metadata": {},
   "outputs": [
    {
     "data": {
      "text/plain": [
       "subreddit\n",
       "TheOnion       76.0745\n",
       "nottheonion    74.0120\n",
       "Name: char_count, dtype: float64"
      ]
     },
     "execution_count": 17,
     "metadata": {},
     "output_type": "execute_result"
    }
   ],
   "source": [
    "# getting average character count per subreddit\n",
    "subreddit_posts.groupby('subreddit')['char_count'].mean()"
   ]
  },
  {
   "cell_type": "markdown",
   "id": "ab7c9988-0314-467d-9134-6acc30900302",
   "metadata": {},
   "source": [
    "The average number of characters in a post are similar for both subreddits which is unsurprising as the post titles tend to be news article titles."
   ]
  },
  {
   "cell_type": "code",
   "execution_count": 18,
   "id": "27c72dcc-6f21-4c43-8af9-965d5dbf08e8",
   "metadata": {},
   "outputs": [
    {
     "data": {
      "image/png": "[encoded data removed]",
      "text/plain": [
       "<Figure size 576x432 with 1 Axes>"
      ]
     },
     "metadata": {
      "needs_background": "light"
     },
     "output_type": "display_data"
    }
   ],
   "source": [
    "# boxplot of character count for each subreddit\n",
    "plt.figure(figsize=(8,6))\n",
    "sns.boxplot(x=subreddit_posts['subreddit'],y=subreddit_posts['char_count'])\n",
    "plt.xlabel(\"Subreddit\")\n",
    "plt.ylabel(\"Character count\")\n",
    "plt.title(\"Box plot of character counts of posts for each subreddit\");"
   ]
  },
  {
   "cell_type": "code",
   "execution_count": 19,
   "id": "f0f48e89-0003-424f-9810-945b730b7488",
   "metadata": {},
   "outputs": [
    {
     "data": {
      "text/html": [
       "<div>\n",
       "<style scoped>\n",
       "    .dataframe tbody tr th:only-of-type {\n",
       "        vertical-align: middle;\n",
       "    }\n",
       "\n",
       "    .dataframe tbody tr th {\n",
       "        vertical-align: top;\n",
       "    }\n",
       "\n",
       "    .dataframe thead th {\n",
       "        text-align: right;\n",
       "    }\n",
       "</style>\n",
       "<table border=\"1\" class=\"dataframe\">\n",
       "  <thead>\n",
       "    <tr style=\"text-align: right;\">\n",
       "      <th></th>\n",
       "      <th>count</th>\n",
       "      <th>mean</th>\n",
       "      <th>std</th>\n",
       "      <th>min</th>\n",
       "      <th>25%</th>\n",
       "      <th>50%</th>\n",
       "      <th>75%</th>\n",
       "      <th>max</th>\n",
       "    </tr>\n",
       "    <tr>\n",
       "      <th>subreddit</th>\n",
       "      <th></th>\n",
       "      <th></th>\n",
       "      <th></th>\n",
       "      <th></th>\n",
       "      <th></th>\n",
       "      <th></th>\n",
       "      <th></th>\n",
       "      <th></th>\n",
       "    </tr>\n",
       "  </thead>\n",
       "  <tbody>\n",
       "    <tr>\n",
       "      <th>TheOnion</th>\n",
       "      <td>2000.0</td>\n",
       "      <td>76.0745</td>\n",
       "      <td>28.557481</td>\n",
       "      <td>3.0</td>\n",
       "      <td>58.00</td>\n",
       "      <td>76.0</td>\n",
       "      <td>93.0</td>\n",
       "      <td>253.0</td>\n",
       "    </tr>\n",
       "    <tr>\n",
       "      <th>nottheonion</th>\n",
       "      <td>2000.0</td>\n",
       "      <td>74.0120</td>\n",
       "      <td>31.501016</td>\n",
       "      <td>2.0</td>\n",
       "      <td>57.75</td>\n",
       "      <td>72.0</td>\n",
       "      <td>87.0</td>\n",
       "      <td>297.0</td>\n",
       "    </tr>\n",
       "  </tbody>\n",
       "</table>\n",
       "</div>"
      ],
      "text/plain": [
       "              count     mean        std  min    25%   50%   75%    max\n",
       "subreddit                                                             \n",
       "TheOnion     2000.0  76.0745  28.557481  3.0  58.00  76.0  93.0  253.0\n",
       "nottheonion  2000.0  74.0120  31.501016  2.0  57.75  72.0  87.0  297.0"
      ]
     },
     "execution_count": 19,
     "metadata": {},
     "output_type": "execute_result"
    }
   ],
   "source": [
    "# summary statistics of character count\n",
    "subreddit_posts.groupby(\"subreddit\")[\"char_count\"].describe()"
   ]
  },
  {
   "cell_type": "markdown",
   "id": "b812d890-4266-45fb-abe6-bcbb5d7cc8e4",
   "metadata": {},
   "source": [
    "From the boxplot, the number of characters in both subreddits is quite variable. The boxplot identified some outliers so we will take a look at some of them. More than 75% of the posts have less than 100 characters."
   ]
  },
  {
   "cell_type": "code",
   "execution_count": 20,
   "id": "59da8f9e-7f4e-40cf-9d3f-3eefded3aef4",
   "metadata": {},
   "outputs": [
    {
     "data": {
      "text/plain": [
       "27      Hey Gamers, We Know We Can Sometimes Be A Litt...\n",
       "116     The Sydney Opera House in Australia has renewe...\n",
       "464     Most traders are in a situation where they are...\n",
       "627     Oklahoma house approves first of a kind water ...\n",
       "711     ‘Fortnite’ Mobile Fans Will Hate This: Apple S...\n",
       "813     Epic Clapback: Wendy’s Posted A Sassy Tweet Ab...\n",
       "954     8 People Having A Way Better Day Than You, Alt...\n",
       "956     Tough: The New TMNT Game Follows A European Tr...\n",
       "1052    U.S. diplomats forced by China to undergo anal...\n",
       "1062    Thomas Bangalter of Daft Punk passed away peac...\n",
       "Name: title, dtype: object"
      ]
     },
     "execution_count": 20,
     "metadata": {},
     "output_type": "execute_result"
    }
   ],
   "source": [
    "# top 10 posts from r/TheOnion with more than 150 characters\n",
    "subreddit_posts[(subreddit_posts[\"subreddit\"]==\"TheOnion\") & (subreddit_posts[\"char_count\"]>150)][\"title\"].head(10)"
   ]
  },
  {
   "cell_type": "code",
   "execution_count": 21,
   "id": "80972043-4daa-4e75-a911-19b4b25160ac",
   "metadata": {},
   "outputs": [
    {
     "data": {
      "text/plain": [
       "2041    Upset over their grievances not being addresse...\n",
       "2069    Marjorie Taylor Greene Says She Wants To Take ...\n",
       "2120    Capital Hospital Islamabad Jobs 2022 for Medic...\n",
       "2147    Turkey’s Treasury and Finance Minister Nureddi...\n",
       "2161    TIL: In 2006, a woman farted on a plane and tr...\n",
       "2235    Elton John stiffed the Pinball Hall of Fame af...\n",
       "2245    [Campbell] Due to a stadium ban, Sparta Prague...\n",
       "2365    Anti-vaxxer, who had bragged that he walked in...\n",
       "2421    @RandPaul: How to steal an election: “Seeding ...\n",
       "2422    Man who used his freedom of speech in \"Let's g...\n",
       "Name: title, dtype: object"
      ]
     },
     "execution_count": 21,
     "metadata": {},
     "output_type": "execute_result"
    }
   ],
   "source": [
    "# top 10 posts from r/nottheonion with more than 150 characters\n",
    "subreddit_posts[(subreddit_posts[\"subreddit\"]==\"nottheonion\") & (subreddit_posts[\"char_count\"]>150)][\"title\"].head(10)"
   ]
  },
  {
   "cell_type": "markdown",
   "id": "aa7d8bb8-4c2d-4970-b94a-839c8d1b8aa5",
   "metadata": {},
   "source": [
    "The posts that were longer than 150 characters look like news article titles. As we are analysing post titles which are news article titles, some article titles could be longer than normal but they are not common"
   ]
  },
  {
   "cell_type": "markdown",
   "id": "7a2ed2fa-23fd-4291-ba7a-7ccb4fd20e59",
   "metadata": {
    "tags": []
   },
   "source": [
    "#### Post word count"
   ]
  },
  {
   "cell_type": "code",
   "execution_count": 22,
   "id": "7b5e236f-297c-46b4-9530-220bb08e040e",
   "metadata": {},
   "outputs": [],
   "source": [
    "# creating column to contain split title text\n",
    "subreddit_posts['words'] = subreddit_posts['title'].str.split()\n",
    "# creating column to contain word count\n",
    "subreddit_posts['word_count'] = subreddit_posts['words'].apply(len)"
   ]
  },
  {
   "cell_type": "code",
   "execution_count": 23,
   "id": "7f5f59b1-44e3-49cd-b9c7-e625753503ae",
   "metadata": {},
   "outputs": [
    {
     "data": {
      "text/plain": [
       "subreddit\n",
       "TheOnion       12.2175\n",
       "nottheonion    12.0925\n",
       "Name: word_count, dtype: float64"
      ]
     },
     "execution_count": 23,
     "metadata": {},
     "output_type": "execute_result"
    }
   ],
   "source": [
    "# getting average word count per subreddit\n",
    "subreddit_posts.groupby('subreddit')['word_count'].mean()"
   ]
  },
  {
   "cell_type": "markdown",
   "id": "5b863182-f20d-45b8-a2d7-0183b7a62bb2",
   "metadata": {},
   "source": [
    "The average number of words in a post are similar for both subreddits which is also unsurprising as the post titles tend to be news article titles."
   ]
  },
  {
   "cell_type": "code",
   "execution_count": 24,
   "id": "edfb0307-6152-4328-b38f-721cf7a270a6",
   "metadata": {},
   "outputs": [
    {
     "data": {
      "image/png": "[encoded data removed]",
      "text/plain": [
       "<Figure size 576x432 with 1 Axes>"
      ]
     },
     "metadata": {
      "needs_background": "light"
     },
     "output_type": "display_data"
    }
   ],
   "source": [
    "# boxplot of word count for each subreddit\n",
    "plt.figure(figsize=(8,6))\n",
    "sns.boxplot(x=subreddit_posts['subreddit'],y=subreddit_posts['word_count'])\n",
    "plt.xlabel(\"Subreddit\")\n",
    "plt.ylabel(\"Word count\")\n",
    "plt.title(\"Box plot of word counts of posts for each subreddit\");"
   ]
  },
  {
   "cell_type": "code",
   "execution_count": 25,
   "id": "8e8ce01d-01a8-481e-a1c9-ea9b3690bb91",
   "metadata": {},
   "outputs": [
    {
     "data": {
      "text/html": [
       "<div>\n",
       "<style scoped>\n",
       "    .dataframe tbody tr th:only-of-type {\n",
       "        vertical-align: middle;\n",
       "    }\n",
       "\n",
       "    .dataframe tbody tr th {\n",
       "        vertical-align: top;\n",
       "    }\n",
       "\n",
       "    .dataframe thead th {\n",
       "        text-align: right;\n",
       "    }\n",
       "</style>\n",
       "<table border=\"1\" class=\"dataframe\">\n",
       "  <thead>\n",
       "    <tr style=\"text-align: right;\">\n",
       "      <th></th>\n",
       "      <th>count</th>\n",
       "      <th>mean</th>\n",
       "      <th>std</th>\n",
       "      <th>min</th>\n",
       "      <th>25%</th>\n",
       "      <th>50%</th>\n",
       "      <th>75%</th>\n",
       "      <th>max</th>\n",
       "    </tr>\n",
       "    <tr>\n",
       "      <th>subreddit</th>\n",
       "      <th></th>\n",
       "      <th></th>\n",
       "      <th></th>\n",
       "      <th></th>\n",
       "      <th></th>\n",
       "      <th></th>\n",
       "      <th></th>\n",
       "      <th></th>\n",
       "    </tr>\n",
       "  </thead>\n",
       "  <tbody>\n",
       "    <tr>\n",
       "      <th>TheOnion</th>\n",
       "      <td>2000.0</td>\n",
       "      <td>12.2175</td>\n",
       "      <td>4.878226</td>\n",
       "      <td>1.0</td>\n",
       "      <td>9.0</td>\n",
       "      <td>12.0</td>\n",
       "      <td>15.0</td>\n",
       "      <td>47.0</td>\n",
       "    </tr>\n",
       "    <tr>\n",
       "      <th>nottheonion</th>\n",
       "      <td>2000.0</td>\n",
       "      <td>12.0925</td>\n",
       "      <td>5.397361</td>\n",
       "      <td>1.0</td>\n",
       "      <td>9.0</td>\n",
       "      <td>12.0</td>\n",
       "      <td>14.0</td>\n",
       "      <td>53.0</td>\n",
       "    </tr>\n",
       "  </tbody>\n",
       "</table>\n",
       "</div>"
      ],
      "text/plain": [
       "              count     mean       std  min  25%   50%   75%   max\n",
       "subreddit                                                         \n",
       "TheOnion     2000.0  12.2175  4.878226  1.0  9.0  12.0  15.0  47.0\n",
       "nottheonion  2000.0  12.0925  5.397361  1.0  9.0  12.0  14.0  53.0"
      ]
     },
     "execution_count": 25,
     "metadata": {},
     "output_type": "execute_result"
    }
   ],
   "source": [
    "# summary statistics of word count\n",
    "subreddit_posts.groupby(\"subreddit\")[\"word_count\"].describe()"
   ]
  },
  {
   "cell_type": "markdown",
   "id": "22c7656b-bcc4-4640-9934-b9928670ce7c",
   "metadata": {},
   "source": [
    "From the boxplot, the number of words in both subreddits is quite variable. The boxplot identified some outliers so we will take a look at some of them. 75% of the posts have less than 15 words."
   ]
  },
  {
   "cell_type": "code",
   "execution_count": 26,
   "id": "c14c3ad8-848b-4ff1-bc47-c5212336fcf7",
   "metadata": {},
   "outputs": [
    {
     "data": {
      "text/plain": [
       "27      Hey Gamers, We Know We Can Sometimes Be A Litt...\n",
       "116     The Sydney Opera House in Australia has renewe...\n",
       "464     Most traders are in a situation where they are...\n",
       "711     ‘Fortnite’ Mobile Fans Will Hate This: Apple S...\n",
       "1052    U.S. diplomats forced by China to undergo anal...\n",
       "1062    Thomas Bangalter of Daft Punk passed away peac...\n",
       "1281    Thank you so much for this masterpiece. The le...\n",
       "1562    Gamers, Are You Not Seeing All The Olives We L...\n",
       "1575    Everything Is RUINED: Deborah Just Scheduled H...\n",
       "1620    Major Letdown: It Looks Like The Witch Who Hex...\n",
       "Name: title, dtype: object"
      ]
     },
     "execution_count": 26,
     "metadata": {},
     "output_type": "execute_result"
    }
   ],
   "source": [
    "# top 10 posts from r/TheOnion with more than 30 words\n",
    "subreddit_posts[(subreddit_posts[\"subreddit\"]==\"TheOnion\") & (subreddit_posts[\"word_count\"]>30)][\"title\"].head(10)"
   ]
  },
  {
   "cell_type": "code",
   "execution_count": 27,
   "id": "3085819b-1dcb-4401-8596-485b77494856",
   "metadata": {},
   "outputs": [
    {
     "data": {
      "text/plain": [
       "2041    Upset over their grievances not being addresse...\n",
       "2069    Marjorie Taylor Greene Says She Wants To Take ...\n",
       "2161    TIL: In 2006, a woman farted on a plane and tr...\n",
       "2235    Elton John stiffed the Pinball Hall of Fame af...\n",
       "2245    [Campbell] Due to a stadium ban, Sparta Prague...\n",
       "2421    @RandPaul: How to steal an election: “Seeding ...\n",
       "2714    TIL that in 2009 when giving a TED talk on mal...\n",
       "2774    Since 1995, the slice held by billionaires has...\n",
       "2886    Dating Dating Dating, create an account on thi...\n",
       "3282    These are your leaders and celebrities! This h...\n",
       "Name: title, dtype: object"
      ]
     },
     "execution_count": 27,
     "metadata": {},
     "output_type": "execute_result"
    }
   ],
   "source": [
    "# top 10 posts from r/nottheonion with more than 30 words\n",
    "subreddit_posts[(subreddit_posts[\"subreddit\"]==\"nottheonion\") & (subreddit_posts[\"word_count\"]>30)][\"title\"].head(10)"
   ]
  },
  {
   "cell_type": "markdown",
   "id": "52ff8535-80b9-413c-b192-bed1db5b8e83",
   "metadata": {},
   "source": [
    "The posts that were longer than 30 words look like news article titles.  As we are analysing post titles which are news article titles, some article titles could be longer than normal but they are not common."
   ]
  },
  {
   "cell_type": "markdown",
   "id": "61c8aeef-3730-4ed8-a637-e495923b6317",
   "metadata": {},
   "source": [
    "#### Most frequent unigrams and bigrams from r/TheOnion"
   ]
  },
  {
   "cell_type": "code",
   "execution_count": 28,
   "id": "42cec4cc-bddc-4fa2-94e0-c3af64a50087",
   "metadata": {},
   "outputs": [],
   "source": [
    "# using CountVectorizer to generate unigrams for analysis\n",
    "cvec_onion = CountVectorizer(stop_words='english', min_df=3)\n",
    "cvec_onion.fit(subreddit_posts[subreddit_posts['subreddit']==\"TheOnion\"]['title'])\n",
    "\n",
    "onion_cv = cvec_onion.transform(subreddit_posts[subreddit_posts['subreddit']==\"TheOnion\"]['title'])\n",
    "onion_df = pd.DataFrame(onion_cv.todense(),columns=cvec_onion.get_feature_names())"
   ]
  },
  {
   "cell_type": "code",
   "execution_count": 29,
   "id": "08221123-e92a-42cc-b3c6-82c2999819a9",
   "metadata": {},
   "outputs": [
    {
     "data": {
      "image/png": "[encoded data removed]",
      "text/plain": [
       "<Figure size 576x432 with 1 Axes>"
      ]
     },
     "metadata": {
      "needs_background": "light"
     },
     "output_type": "display_data"
    }
   ],
   "source": [
    "# plotting bargraph for 15 most common unigrams\n",
    "plt.figure(figsize=(8,6))\n",
    "onion_df.sum().sort_values(ascending=False).head(15).plot(kind='barh')\n",
    "plt.title(\"15 most common unigrams for r/TheOnion\");"
   ]
  },
  {
   "cell_type": "code",
   "execution_count": 30,
   "id": "026f1150-279a-41ba-a0d8-50f91ad67f55",
   "metadata": {},
   "outputs": [
    {
     "data": {
      "text/plain": [
       "man          144\n",
       "new          125\n",
       "trump        112\n",
       "just          75\n",
       "onion         71\n",
       "biden         70\n",
       "says          63\n",
       "nation        62\n",
       "time          45\n",
       "year          44\n",
       "covid         44\n",
       "like          44\n",
       "woman         41\n",
       "house         39\n",
       "announces     38\n",
       "dtype: int64"
      ]
     },
     "execution_count": 30,
     "metadata": {},
     "output_type": "execute_result"
    }
   ],
   "source": [
    "# printing counts of 15 most common unigrams\n",
    "onion_df.sum().sort_values(ascending=False).head(15)"
   ]
  },
  {
   "cell_type": "markdown",
   "id": "d0bd72fd-73ba-4079-95ff-362bf7c3bc1a",
   "metadata": {},
   "source": [
    "Quite a number of posts from r/TheOnion seem to mention covid, trump and biden. This makes sense as news pieces from The Onion would have to be up-to-date with current affairs to be relevant and intrigue users."
   ]
  },
  {
   "cell_type": "code",
   "execution_count": 31,
   "id": "1580f89f-ba18-49bf-ba92-5e93518dfce2",
   "metadata": {},
   "outputs": [],
   "source": [
    "# using CountVectorizer to generate bigrams for analysis\n",
    "cvec_onion_bigram = CountVectorizer(ngram_range=(2,2),stop_words='english', min_df=3)\n",
    "cvec_onion_bigram.fit(subreddit_posts[subreddit_posts['subreddit']==\"TheOnion\"]['title'])\n",
    "\n",
    "onion_cv_bigram = cvec_onion_bigram.transform(subreddit_posts[subreddit_posts['subreddit']==\"TheOnion\"]['title'])\n",
    "onion_df_bigram = pd.DataFrame(onion_cv_bigram.todense(),columns=cvec_onion_bigram.get_feature_names())"
   ]
  },
  {
   "cell_type": "code",
   "execution_count": 32,
   "id": "55eeec59-e155-4b51-aacb-d2d455b92d60",
   "metadata": {},
   "outputs": [
    {
     "data": {
      "image/png": "[encoded data removed]",
      "text/plain": [
       "<Figure size 576x432 with 1 Axes>"
      ]
     },
     "metadata": {
      "needs_background": "light"
     },
     "output_type": "display_data"
    }
   ],
   "source": [
    "# plotting bargraph for 15 most common bigrams\n",
    "plt.figure(figsize=(8,6))\n",
    "onion_df_bigram.sum().sort_values(ascending=False).head(15).plot(kind='barh')\n",
    "plt.title(\"15 most common bigrams for r/TheOnion\");"
   ]
  },
  {
   "cell_type": "code",
   "execution_count": 33,
   "id": "b0d173a0-265a-408a-87c4-9f4bf570dbd2",
   "metadata": {},
   "outputs": [
    {
     "data": {
      "text/plain": [
       "year old            22\n",
       "study finds         18\n",
       "white house         18\n",
       "covid 19            14\n",
       "new york             9\n",
       "donald trump         9\n",
       "kamala harris        8\n",
       "kyle rittenhouse     8\n",
       "things know          8\n",
       "tucker carlson       7\n",
       "climate change       7\n",
       "high school          6\n",
       "experts warn         6\n",
       "social media         6\n",
       "covid vaccine        6\n",
       "dtype: int64"
      ]
     },
     "execution_count": 33,
     "metadata": {},
     "output_type": "execute_result"
    }
   ],
   "source": [
    "# printing counts of 15 most common bigrams\n",
    "onion_df_bigram.sum().sort_values(ascending=False).head(15)"
   ]
  },
  {
   "cell_type": "markdown",
   "id": "f14c0831-d8a3-419f-a45e-bf22408e911e",
   "metadata": {},
   "source": [
    "The 15 most common bigrams from posts from r/TheOnion seem normal without context. As mentioned earlier when looking at the unigrams, they have to keep up with current affairs (hence the bigrams of \"donald trump\", \"kamala harris\", \"kyle rittenhouse\") and write pieces that would intrigue people (hence the bigrams \"experts warn\" and \"study finds\")"
   ]
  },
  {
   "cell_type": "markdown",
   "id": "2969baa3-85f7-404e-8327-06c10e4c3359",
   "metadata": {},
   "source": [
    "#### Most frequent unigrams and bigrams from r/notheonion"
   ]
  },
  {
   "cell_type": "code",
   "execution_count": 34,
   "id": "943e7e3e-d22e-4cc0-a128-e1e8f325c02c",
   "metadata": {},
   "outputs": [],
   "source": [
    "# using CountVectorizer to generate unigrams for analysis\n",
    "cvec_notonion = CountVectorizer(stop_words='english', min_df=3)\n",
    "cvec_notonion.fit(subreddit_posts[subreddit_posts['subreddit']==\"nottheonion\"]['title'])\n",
    "\n",
    "notonion_cv = cvec_notonion.transform(subreddit_posts[subreddit_posts['subreddit']==\"nottheonion\"]['title'])\n",
    "notonion_df = pd.DataFrame(notonion_cv.todense(),columns=cvec_notonion.get_feature_names())"
   ]
  },
  {
   "cell_type": "code",
   "execution_count": 35,
   "id": "cd49cc88-ddaf-489b-9d1d-724dfe4307ec",
   "metadata": {},
   "outputs": [
    {
     "data": {
      "image/png": "[encoded data removed]",
      "text/plain": [
       "<Figure size 576x432 with 1 Axes>"
      ]
     },
     "metadata": {
      "needs_background": "light"
     },
     "output_type": "display_data"
    }
   ],
   "source": [
    "# plotting bargraph for 15 most common unigrams\n",
    "plt.figure(figsize=(8,6))\n",
    "notonion_df.sum().sort_values(ascending=False).head(15).plot(kind='barh')\n",
    "plt.title(\"15 most common unigrams for r/nottheonion\");"
   ]
  },
  {
   "cell_type": "code",
   "execution_count": 36,
   "id": "445adaae-ccfd-4e4b-8421-28fdeb8934ae",
   "metadata": {},
   "outputs": [
    {
     "data": {
      "text/plain": [
       "man          177\n",
       "says         112\n",
       "content      103\n",
       "covid        100\n",
       "christmas     76\n",
       "police        73\n",
       "woman         67\n",
       "people        66\n",
       "year          63\n",
       "new           63\n",
       "video         48\n",
       "000           44\n",
       "anti          42\n",
       "19            41\n",
       "north         41\n",
       "dtype: int64"
      ]
     },
     "execution_count": 36,
     "metadata": {},
     "output_type": "execute_result"
    }
   ],
   "source": [
    "# printing counts of 15 most common unigrams\n",
    "notonion_df.sum().sort_values(ascending=False).head(15)"
   ]
  },
  {
   "cell_type": "markdown",
   "id": "61dc8b01-aadf-44aa-af2c-9eb4108d1e4c",
   "metadata": {},
   "source": [
    "Quite a number of posts from r/notheonion mention \"man\", \"woman\", \"police\" which could mean that the posts could be about a man or woman doing something weird and the police could be involved as a result. \"covid\" is also present here which is unsurprising since covid is still a hot topic today"
   ]
  },
  {
   "cell_type": "code",
   "execution_count": 37,
   "id": "630d6f1d-1359-4651-8fb4-bd2ce149023d",
   "metadata": {},
   "outputs": [],
   "source": [
    "# using CountVectorizer to generate bigrams for analysis\n",
    "cvec_notonion_bigram = CountVectorizer(ngram_range=(2,2),stop_words='english', min_df=3)\n",
    "cvec_notonion_bigram.fit(subreddit_posts[subreddit_posts['subreddit']==\"nottheonion\"]['title'])\n",
    "\n",
    "notonion_cv_bigram = cvec_notonion_bigram.transform(subreddit_posts[subreddit_posts['subreddit']==\"nottheonion\"]['title'])\n",
    "notonion_df_bigram = pd.DataFrame(notonion_cv_bigram.todense(),columns=cvec_notonion_bigram.get_feature_names())"
   ]
  },
  {
   "cell_type": "code",
   "execution_count": 38,
   "id": "f549e20a-0a63-4128-9841-fcaef0392f26",
   "metadata": {},
   "outputs": [
    {
     "data": {
      "image/png": "[encoded data removed]",
      "text/plain": [
       "<Figure size 576x432 with 1 Axes>"
      ]
     },
     "metadata": {
      "needs_background": "light"
     },
     "output_type": "display_data"
    }
   ],
   "source": [
    "# plotting bargraph for 15 most common bigrams\n",
    "plt.figure(figsize=(8,6))\n",
    "notonion_df_bigram.sum().sort_values(ascending=False).head(15).plot(kind='barh')\n",
    "plt.title(\"15 most common bigrams for r/nottheonion\");"
   ]
  },
  {
   "cell_type": "code",
   "execution_count": 39,
   "id": "0793f8ae-49c4-48eb-a93d-c63c19aeb595",
   "metadata": {},
   "outputs": [
    {
     "data": {
      "text/plain": [
       "year old        34\n",
       "covid 19        34\n",
       "250 dogs        26\n",
       "north korea     21\n",
       "florida man     19\n",
       "2021 12         18\n",
       "anti 5g         18\n",
       "kim jong        18\n",
       "monkeys kill    16\n",
       "kill 250        16\n",
       "jong il         15\n",
       "let brandon     14\n",
       "il death        13\n",
       "18 people       13\n",
       "11 days         13\n",
       "dtype: int64"
      ]
     },
     "execution_count": 39,
     "metadata": {},
     "output_type": "execute_result"
    }
   ],
   "source": [
    "# printing counts of 15 most common bigrams\n",
    "notonion_df_bigram.sum().sort_values(ascending=False).head(15)"
   ]
  },
  {
   "cell_type": "markdown",
   "id": "d20ec4f7-b978-4802-bacc-be706ca6c7b8",
   "metadata": {},
   "source": [
    "The more striking bigrams from 15 most common bigrams are \"kim jong\", \"jong il\", \"florida man\". The posts with \"kim jong\" and \"jong il\" are likely about statements/actions by Kim Jong Il or Kim Jong Un which can be quite interesting. Florida man is a popular internet meme as Florida is notorious for strange and unusual happenings so it is unsurprising to see \"florida man\" in r/nottheonion"
   ]
  },
  {
   "cell_type": "markdown",
   "id": "f40ed06e-5a70-419f-9641-8e0b1e0c0510",
   "metadata": {},
   "source": [
    "There are not too many similarities in the top 15 most common unigrams and bigrams, so the models are likely to be able to differentiate between posts of the 2 subreddits."
   ]
  },
  {
   "cell_type": "markdown",
   "id": "933cd8bb-23b1-4b2d-b3d9-6bbabe8544be",
   "metadata": {
    "tags": []
   },
   "source": [
    "Modelling\n",
    "---"
   ]
  },
  {
   "cell_type": "code",
   "execution_count": 40,
   "id": "15d3aa0f-edb7-4b80-b9a3-bbb54537f766",
   "metadata": {},
   "outputs": [],
   "source": [
    "def preprocess_text(text):\n",
    "    # remove special char and tokens that are digits\n",
    "    # [^\\w\\s] to select anything that is not a-z, A-Z, 0-9, _ and whitespace, \\d+ to select anything is that made up of digits\n",
    "    # re.sub to replace them with whitespace and split to remove additional whitespaces\n",
    "    text = re.sub(\"[^\\w\\s]|\\d+\",\" \",text).lower().split()\n",
    "    \n",
    "    # remove stopwords\n",
    "    stopwords_list = stopwords.words(\"english\")\n",
    "    text_meaningful = [word for word in text if word not in stopwords_list]\n",
    "    \n",
    "    # lemmatize words\n",
    "    lemmatizer = WordNetLemmatizer()\n",
    "    text_meaningful_lem = [lemmatizer.lemmatize(w) for w in text_meaningful]\n",
    "    \n",
    "    # return list of lemmatized words, return None if no text remains to dropna later on\n",
    "    return (\" \".join(text_meaningful_lem)) if len(text_meaningful_lem) > 0 else None"
   ]
  },
  {
   "cell_type": "code",
   "execution_count": 41,
   "id": "056dfd6c-797e-4791-950e-bee54c8bae35",
   "metadata": {},
   "outputs": [],
   "source": [
    "def print_scores(model):\n",
    "    print(f\"Train score: {model.score(X_train,y_train)}\")\n",
    "    print(f\"Test score: {model.score(X_test,y_test)}\")\n",
    "    print(f\"Cross val score: {cross_val_score(model,X_train,y_train,cv=5).mean()}\")"
   ]
  },
  {
   "cell_type": "code",
   "execution_count": 42,
   "id": "93de0408-5ec3-48fd-98ff-4085a585e7a3",
   "metadata": {
    "tags": []
   },
   "outputs": [],
   "source": [
    "def print_gs_scores(model):\n",
    "    print(f\"Train score: {model.score(X_train,y_train)}\")\n",
    "    print(f\"Test score: {model.score(X_test,y_test)}\")\n",
    "    print(f\"Cross val score: {model.best_score_}\")\n",
    "    print(f\"F1-score: {f1_score(y_test,model.predict(X_test))}\")"
   ]
  },
  {
   "cell_type": "code",
   "execution_count": 43,
   "id": "803a628c-3d98-4901-bd67-1580741b000d",
   "metadata": {},
   "outputs": [],
   "source": [
    "X = subreddit_posts['title'].apply(preprocess_text)\n",
    "y = subreddit_posts['subreddit'].map({\"nottheonion\":0,\"TheOnion\":1})"
   ]
  },
  {
   "cell_type": "code",
   "execution_count": 44,
   "id": "8fcb67f1-784c-421e-b8c4-22c11d57b3d0",
   "metadata": {},
   "outputs": [
    {
     "data": {
      "text/plain": [
       "0"
      ]
     },
     "execution_count": 44,
     "metadata": {},
     "output_type": "execute_result"
    }
   ],
   "source": [
    "# check if preprocessing text has resulted in blanks\n",
    "X.isna().sum()"
   ]
  },
  {
   "cell_type": "markdown",
   "id": "2efa9f65-8b9a-46cd-9736-e351cb5a137b",
   "metadata": {},
   "source": [
    "No null values found after preprocessing text."
   ]
  },
  {
   "cell_type": "code",
   "execution_count": 45,
   "id": "d50d4184-ae3d-48c6-8ee0-01ab60a9ee7d",
   "metadata": {},
   "outputs": [],
   "source": [
    "# split data into train and test sets\n",
    "X_train, X_test, y_train, y_test = train_test_split(X, y, random_state=42)"
   ]
  },
  {
   "cell_type": "code",
   "execution_count": 46,
   "id": "ad1dc4a6-265d-4ab5-aca9-86fe6d6a8eda",
   "metadata": {},
   "outputs": [
    {
     "data": {
      "text/plain": [
       "0    0.508\n",
       "1    0.492\n",
       "Name: subreddit, dtype: float64"
      ]
     },
     "execution_count": 46,
     "metadata": {},
     "output_type": "execute_result"
    }
   ],
   "source": [
    "# checking distribution of y_train\n",
    "y_train.value_counts(normalize=True)"
   ]
  },
  {
   "cell_type": "code",
   "execution_count": 47,
   "id": "60a05f6e-7d66-4db8-a932-9b0681df961a",
   "metadata": {},
   "outputs": [
    {
     "data": {
      "text/plain": [
       "1    0.524\n",
       "0    0.476\n",
       "Name: subreddit, dtype: float64"
      ]
     },
     "execution_count": 47,
     "metadata": {},
     "output_type": "execute_result"
    }
   ],
   "source": [
    "# checking distribution of y_test\n",
    "y_test.value_counts(normalize=True)"
   ]
  },
  {
   "cell_type": "markdown",
   "id": "98784b32-b9a8-47a2-a82e-7300f6c4e910",
   "metadata": {},
   "source": [
    "Classes are balanced"
   ]
  },
  {
   "cell_type": "markdown",
   "id": "368c523d-d3e4-47a5-bdc1-62d26a309bb1",
   "metadata": {
    "tags": []
   },
   "source": [
    "### Vectorizer Selection"
   ]
  },
  {
   "cell_type": "code",
   "execution_count": 48,
   "id": "1d305622-0526-46a3-8105-baeaea46dd75",
   "metadata": {},
   "outputs": [
    {
     "name": "stdout",
     "output_type": "stream",
     "text": [
      "CountVectorizer + Logistic Regression scores:\n",
      "Train score: 0.989\n",
      "Test score: 0.773\n",
      "Cross val score: 0.7256666666666666\n",
      "=====\n",
      "TfidfVectorizer + Logistic Regression scores:\n",
      "Train score: 0.954\n",
      "Test score: 0.779\n",
      "Cross val score: 0.7226666666666667\n",
      "=====\n",
      "CountVectorizer + Multinomial Naive Bayes scores:\n",
      "Train score: 0.959\n",
      "Test score: 0.779\n",
      "Cross val score: 0.7323333333333333\n",
      "=====\n",
      "TfidfVectorizer + Multinomial Naive Bayes scores:\n",
      "Train score: 0.961\n",
      "Test score: 0.787\n",
      "Cross val score: 0.7343333333333334\n",
      "=====\n"
     ]
    }
   ],
   "source": [
    "# creating pipelines of CountVectorizer and TfidfVectorizer with Logistic Regression and MultinomialNB\n",
    "# to see which vectorizer works best\n",
    "pipe_cvec_logreg = Pipeline([('cvec',CountVectorizer()),('lr',LogisticRegression())])\n",
    "pipe_tvec_logreg = Pipeline([('tvec',TfidfVectorizer()),('lr',LogisticRegression())])\n",
    "pipe_cvec_nb = Pipeline([('cvec',CountVectorizer()),('nb',MultinomialNB())])\n",
    "pipe_tvec_nb = Pipeline([('tvec',TfidfVectorizer()),('nb',MultinomialNB())])\n",
    "\n",
    "pipe_cvec_logreg.fit(X_train,y_train)\n",
    "pipe_tvec_logreg.fit(X_train,y_train)\n",
    "pipe_cvec_nb.fit(X_train,y_train)\n",
    "pipe_tvec_nb.fit(X_train,y_train)\n",
    "\n",
    "print(\"CountVectorizer + Logistic Regression scores:\")\n",
    "print_scores(pipe_cvec_logreg)\n",
    "print(\"=====\")\n",
    "print(\"TfidfVectorizer + Logistic Regression scores:\")\n",
    "print_scores(pipe_tvec_logreg)\n",
    "print(\"=====\")\n",
    "print(\"CountVectorizer + Multinomial Naive Bayes scores:\")\n",
    "print_scores(pipe_cvec_nb)\n",
    "print(\"=====\")\n",
    "print(\"TfidfVectorizer + Multinomial Naive Bayes scores:\")\n",
    "print_scores(pipe_tvec_nb)\n",
    "print(\"=====\")"
   ]
  },
  {
   "cell_type": "markdown",
   "id": "defacfb2-a48f-4e26-b863-19f43387dae1",
   "metadata": {},
   "source": [
    "TfidfVectorizer and CountVectorizer yields similar results.  We will proceed with TfidfVectorizer in our subsequent models as it considers the overall document weightage of a word as compared to CountVectorizer which only counts the number of occurrences."
   ]
  },
  {
   "cell_type": "markdown",
   "id": "68ea043e-9a6d-4e24-bd4a-a99cce6b90bc",
   "metadata": {
    "tags": []
   },
   "source": [
    "### Model 0: Baseline Model"
   ]
  },
  {
   "cell_type": "code",
   "execution_count": 49,
   "id": "f70f76e4-cd5b-4fb6-b78e-11fcb9961f1d",
   "metadata": {},
   "outputs": [
    {
     "name": "stdout",
     "output_type": "stream",
     "text": [
      "Baseline model scores:\n",
      "Train score: 0.508\n",
      "Test score: 0.476\n",
      "Cross val score: 0.508\n",
      "Wall time: 17.9 ms\n"
     ]
    }
   ],
   "source": [
    "%%time\n",
    "\n",
    "# using DummyClassifier as our baseline model\n",
    "baseline_model = DummyClassifier(random_state=42)\n",
    "baseline_model.fit(X_train, y_train)\n",
    "print(f\"Baseline model scores:\")\n",
    "print_scores(baseline_model)"
   ]
  },
  {
   "cell_type": "markdown",
   "id": "0b950f0e-91e0-45ce-ade0-fea23b8c52d3",
   "metadata": {},
   "source": [
    "### Model 1: Random Forest Classifier"
   ]
  },
  {
   "cell_type": "code",
   "execution_count": 50,
   "id": "4ba30218-4e7f-4071-9fc0-ded0d22a52b7",
   "metadata": {},
   "outputs": [
    {
     "name": "stdout",
     "output_type": "stream",
     "text": [
      "TfidfVectorizer + Random Forest scores:\n",
      "Train score: 0.9993333333333333\n",
      "Test score: 0.745\n",
      "Cross val score: 0.7183333333333333\n",
      "F1-score: 0.7545717035611165\n",
      "Wall time: 7min 13s\n"
     ]
    }
   ],
   "source": [
    "%%time\n",
    "\n",
    "# Pipeline of TfidfVectorizer and Random Forest\n",
    "pipe_tvec_rf = Pipeline([('tvec',TfidfVectorizer(strip_accents='unicode')),('rf',RandomForestClassifier(random_state=42))])\n",
    "pipe_tvec_rf_params = {'tvec__max_features':[None,1000,2000],\n",
    "                       'tvec__stop_words':[None,'english'],\n",
    "                       'tvec__ngram_range': [(1,1),(1,2),(1,3)],\n",
    "                       'rf__n_estimators':[100,200]}\n",
    "\n",
    "# GridSearch to tune hyperparameters of vectorizer and model\n",
    "gs_tvec_rf = GridSearchCV(pipe_tvec_rf,pipe_tvec_rf_params,cv=5)\n",
    "gs_tvec_rf.fit(X_train, y_train);\n",
    "print(\"TfidfVectorizer + Random Forest scores:\")\n",
    "print_gs_scores(gs_tvec_rf)"
   ]
  },
  {
   "cell_type": "code",
   "execution_count": 51,
   "id": "823b882e-1db5-4393-8775-bd98e3e8c7a7",
   "metadata": {},
   "outputs": [
    {
     "data": {
      "text/plain": [
       "{'rf__n_estimators': 100,\n",
       " 'tvec__max_features': None,\n",
       " 'tvec__ngram_range': (1, 1),\n",
       " 'tvec__stop_words': None}"
      ]
     },
     "execution_count": 51,
     "metadata": {},
     "output_type": "execute_result"
    }
   ],
   "source": [
    "# best hyperparameter values from the gridsearch\n",
    "gs_tvec_rf.best_params_"
   ]
  },
  {
   "cell_type": "markdown",
   "id": "7fcfb1a7-910a-4897-8955-83fc54face50",
   "metadata": {
    "tags": []
   },
   "source": [
    "### Model 2: Logistic Regression "
   ]
  },
  {
   "cell_type": "code",
   "execution_count": 52,
   "id": "de932d22-10a8-4492-aa73-70e6b9ee074a",
   "metadata": {
    "tags": []
   },
   "outputs": [
    {
     "name": "stdout",
     "output_type": "stream",
     "text": [
      "TfidfVectorizer + Logistic Regression scores\n",
      "Train score: 0.996\n",
      "Test score: 0.776\n",
      "Cross val score: 0.7323333333333334\n",
      "F1-score: 0.780392156862745\n",
      "Wall time: 1min 24s\n"
     ]
    }
   ],
   "source": [
    "%%time\n",
    "\n",
    "# Pipeline of TfidfVectorizer and Logistic Regression\n",
    "pipe_tvec_lr = Pipeline([('tvec',TfidfVectorizer(strip_accents='unicode')),('lr',LogisticRegression(solver='liblinear'))])\n",
    "pipe_tvec_lr_params = {'tvec__max_features':[None,1000,2000],\n",
    "                       'tvec__stop_words':[None,'english'],\n",
    "                       'tvec__ngram_range': [(1,1),(1,2),(1,3)],\n",
    "                       'lr__penalty':['l1','l2'],\n",
    "                       'lr__C':[0.01,0.1,1]}\n",
    "\n",
    "# GridSearch to tune hyperparameters of vectorizer and model\n",
    "gs_tvec_lr = GridSearchCV(pipe_tvec_lr,pipe_tvec_lr_params,cv=5)\n",
    "gs_tvec_lr.fit(X_train, y_train)\n",
    "\n",
    "print(\"TfidfVectorizer + Logistic Regression scores\")\n",
    "print_gs_scores(gs_tvec_lr)"
   ]
  },
  {
   "cell_type": "code",
   "execution_count": 53,
   "id": "c9e6b40d-df1f-43e7-8b10-9340fcd79f54",
   "metadata": {},
   "outputs": [
    {
     "data": {
      "text/plain": [
       "{'lr__C': 1,\n",
       " 'lr__penalty': 'l2',\n",
       " 'tvec__max_features': None,\n",
       " 'tvec__ngram_range': (1, 3),\n",
       " 'tvec__stop_words': None}"
      ]
     },
     "execution_count": 53,
     "metadata": {},
     "output_type": "execute_result"
    }
   ],
   "source": [
    "# best hyperparameter values from the gridsearch\n",
    "gs_tvec_lr.best_params_"
   ]
  },
  {
   "cell_type": "markdown",
   "id": "cde60331-493f-42c9-a136-4fe4b0bb7d05",
   "metadata": {
    "tags": []
   },
   "source": [
    "### Model 3: Multinomial Naive Bayes"
   ]
  },
  {
   "cell_type": "code",
   "execution_count": 54,
   "id": "4d39d547-cf13-43a5-ae94-697c0d5379a4",
   "metadata": {
    "scrolled": true,
    "tags": []
   },
   "outputs": [
    {
     "name": "stdout",
     "output_type": "stream",
     "text": [
      "TfidfVectorizer + Multinomial Naive Bayes scores:\n",
      "Train score: 0.9953333333333333\n",
      "Test score: 0.779\n",
      "Cross val score: 0.74\n",
      "F1-score: 0.7765419615773508\n",
      "Wall time: 38.1 s\n"
     ]
    }
   ],
   "source": [
    "%%time\n",
    "\n",
    "# Pipeline of TfidfVectorizer and MultinomialNB\n",
    "pipe_tvec_nb = Pipeline([('tvec',TfidfVectorizer(strip_accents='unicode')),('nb',MultinomialNB())])\n",
    "pipe_tvec_nb_params = {'tvec__max_features':[None,1000,2000],\n",
    "                       'tvec__stop_words':[None,'english'],\n",
    "                       'tvec__ngram_range': [(1,1),(1,2),(1,3)],\n",
    "                       'nb__alpha':[1,10,100]}\n",
    "\n",
    "# GridSearch to tune hyperparameters of vectorizer and model\n",
    "gs_tvec_nb = GridSearchCV(pipe_tvec_nb,pipe_tvec_nb_params,cv=5)\n",
    "gs_tvec_nb.fit(X_train, y_train)\n",
    "\n",
    "print(\"TfidfVectorizer + Multinomial Naive Bayes scores:\")\n",
    "print_gs_scores(gs_tvec_nb)"
   ]
  },
  {
   "cell_type": "code",
   "execution_count": 55,
   "id": "fd6d9493-7fba-4a91-b41a-b73ce8b538f2",
   "metadata": {},
   "outputs": [
    {
     "data": {
      "text/plain": [
       "{'nb__alpha': 1,\n",
       " 'tvec__max_features': None,\n",
       " 'tvec__ngram_range': (1, 2),\n",
       " 'tvec__stop_words': None}"
      ]
     },
     "execution_count": 55,
     "metadata": {},
     "output_type": "execute_result"
    }
   ],
   "source": [
    "# best hyperparameter values from the gridsearch\n",
    "gs_tvec_nb.best_params_"
   ]
  },
  {
   "cell_type": "markdown",
   "id": "d85a2a33-b0e0-456d-843b-a639f7dddcc2",
   "metadata": {},
   "source": [
    "### Model 4: Support Vector Classifier"
   ]
  },
  {
   "cell_type": "code",
   "execution_count": 56,
   "id": "70c2fb67-9df6-40e9-9209-a6782182792e",
   "metadata": {},
   "outputs": [
    {
     "name": "stdout",
     "output_type": "stream",
     "text": [
      "TfidfVectorizer + Support Vector Classifier scores:\n",
      "Train score: 0.9993333333333333\n",
      "Test score: 0.786\n",
      "Cross val score: 0.7419999999999999\n",
      "F1-score: 0.7965779467680609\n",
      "Wall time: 5min 3s\n"
     ]
    }
   ],
   "source": [
    "%%time\n",
    "\n",
    "# Pipeline of TfidfVectorizer and Support Vector Classifier\n",
    "pipe_tvec_svc = Pipeline([('tvec',TfidfVectorizer(strip_accents='unicode')),('svc',SVC(random_state=42))])\n",
    "pipe_tvec_svc_params = {'tvec__max_features':[None,1000,2000],\n",
    "                        'tvec__stop_words':[None,'english'],\n",
    "                        'tvec__ngram_range': [(1,1),(1,2),(1,3)],\n",
    "                        'svc__C':[1,0.1],\n",
    "                        'svc__degree':[2,3]}\n",
    "\n",
    "# GridSearch to tune hyperparameters of vectorizer and model\n",
    "gs_tvec_svc = GridSearchCV(pipe_tvec_svc,pipe_tvec_svc_params,cv=5)\n",
    "gs_tvec_svc.fit(X_train, y_train)\n",
    "\n",
    "print(\"TfidfVectorizer + Support Vector Classifier scores:\")\n",
    "print_gs_scores(gs_tvec_svc)"
   ]
  },
  {
   "cell_type": "code",
   "execution_count": 57,
   "id": "9e742a60-b9be-4941-bcb9-d4bcc80aa629",
   "metadata": {},
   "outputs": [
    {
     "data": {
      "text/plain": [
       "{'svc__C': 1,\n",
       " 'svc__degree': 2,\n",
       " 'tvec__max_features': None,\n",
       " 'tvec__ngram_range': (1, 2),\n",
       " 'tvec__stop_words': None}"
      ]
     },
     "execution_count": 57,
     "metadata": {},
     "output_type": "execute_result"
    }
   ],
   "source": [
    "# best hyperparameter values from the gridsearch\n",
    "gs_tvec_svc.best_params_"
   ]
  },
  {
   "cell_type": "markdown",
   "id": "b463e4d0-5c71-45dc-8857-0ee1d5a1b75c",
   "metadata": {},
   "source": [
    "Evaluation\n",
    "---"
   ]
  },
  {
   "cell_type": "markdown",
   "id": "8d29211c-92a8-40b3-98bc-70b6b26ccd4f",
   "metadata": {},
   "source": [
    "|                                   | Train accuracy | Test accuracy | Cross val score | F1 score |\n",
    "|-----------------------------------|----------------|---------------|-----------------|----------|\n",
    "| Baseline model (Dummy Classifier) | 0.508          | 0.476         | 0.508           | -        |\n",
    "| Random Forest Classifier          | 0.999          | 0.745         | 0.718           | 0.754    |\n",
    "| Logistic Regression               | 0.996          | 0.776         | 0.732           | 0.780    |\n",
    "| Multinomial Naive Bayes           | 0.995          | 0.779         | 0.740           | 0.777    |\n",
    "| Support Vector Classifier         | 0.999          | 0.786         | 0.742           | 0.797    |"
   ]
  },
  {
   "cell_type": "markdown",
   "id": "1a976129-53fb-4bc5-9666-91323019b285",
   "metadata": {},
   "source": [
    "We will evaluate the models using the accuracy score and F1 score. The accuracy score is meaningful in this problem as our training data has balanced classes, and we chose F1 score as neither false positive nor false negative is more important than the other.\n",
    "\n",
    "The baseline model is able to predict with 47.6% accuracy and is the same as if we predicted every post in the test set to be from r/TheOnion.\n",
    "\n",
    "From the accuracy scores, all 4 models are overfit with a train accuracy score of > 99% but they achieve decent test accuracy scores of 74% and above, with the Support Vector Classifier performing the best with a test accuracy score of 78.6%. Likewise, Support Vector Classifier has the best F1 score of 79.7%.\n",
    "\n",
    "Based on accuracy scores, the Support Vector Classifier is the best performing model."
   ]
  },
  {
   "cell_type": "code",
   "execution_count": 58,
   "id": "40965d41-4a94-47a6-b0e2-7edb51bba804",
   "metadata": {},
   "outputs": [
    {
     "data": {
      "text/plain": [
       "Text(0.5, 1.0, 'Receiver Operating Characteristic (ROC) Curve')"
      ]
     },
     "execution_count": 58,
     "metadata": {},
     "output_type": "execute_result"
    },
    {
     "data": {
      "image/png": "[encoded data removed]",
      "text/plain": [
       "<Figure size 576x576 with 1 Axes>"
      ]
     },
     "metadata": {
      "needs_background": "light"
     },
     "output_type": "display_data"
    }
   ],
   "source": [
    "plt.figure(figsize=(8,8))\n",
    "plot_roc_curve(gs_tvec_rf,X_test,y_test, ax = plt.gca(), name = \"Random Forest Classifier\")\n",
    "plot_roc_curve(gs_tvec_lr,X_test,y_test, ax = plt.gca(), name = \"Logistic Regression\")\n",
    "plot_roc_curve(gs_tvec_nb,X_test,y_test, ax = plt.gca(), name = \"Multinomial Naive Bayes\")\n",
    "plot_roc_curve(gs_tvec_svc,X_test,y_test, ax = plt.gca(), name = \"Support Vector Classifier\")\n",
    "plt.title(\"Receiver Operating Characteristic (ROC) Curve\")"
   ]
  },
  {
   "cell_type": "markdown",
   "id": "60d31d72-082c-4f56-b7a8-fd48d059d7b1",
   "metadata": {},
   "source": [
    "From the ROC curves, it is clear that the Random Forest Classifier is the worst performing model of the 4. The other 3 models have similar ROC AUC of 0.86/0.87, so they are performing similarly. However, the ROC curve for the Logistic Regression is mostly below the ROC curves for Multinomial Naive Bayes and Support Vector Classifier. \n",
    "\n",
    "Based on the ROC curves and ROC AUC values, we should select either the Multinomial Naive Bayes or the Support Vector Classifier models."
   ]
  },
  {
   "cell_type": "code",
   "execution_count": 59,
   "id": "77a99b65-e513-486a-9e3c-e5cccea7c1d8",
   "metadata": {},
   "outputs": [],
   "source": [
    "rf_pred = gs_tvec_rf.predict(X_test)\n",
    "lr_pred = gs_tvec_lr.predict(X_test)\n",
    "nb_pred = gs_tvec_nb.predict(X_test)\n",
    "svc_pred = gs_tvec_svc.predict(X_test)\n",
    "\n",
    "cm_rf = confusion_matrix(y_test,rf_pred)\n",
    "cm_lr = confusion_matrix(y_test,lr_pred)\n",
    "cm_nb = confusion_matrix(y_test,nb_pred)\n",
    "cm_svc = confusion_matrix(y_test,svc_pred)"
   ]
  },
  {
   "cell_type": "code",
   "execution_count": 60,
   "id": "da1563a3-b521-4aea-b487-43f55d6a0d4e",
   "metadata": {},
   "outputs": [
    {
     "data": {
      "image/png": "[encoded data removed]",
      "text/plain": [
       "<Figure size 1008x720 with 8 Axes>"
      ]
     },
     "metadata": {
      "needs_background": "light"
     },
     "output_type": "display_data"
    }
   ],
   "source": [
    "plt.figure(figsize=(14,10))\n",
    "\n",
    "cm_disp_rf = ConfusionMatrixDisplay(confusion_matrix=cm_rf, display_labels=['nottheonion', 'TheOnion'])\n",
    "cm_disp_rf.plot(ax=plt.subplot(2,2,1))\n",
    "plt.title(\"Random Forest Classifier Confusion Matrix\")\n",
    "\n",
    "cm_disp_lr = ConfusionMatrixDisplay(confusion_matrix=cm_lr, display_labels=['nottheonion', 'TheOnion'])\n",
    "cm_disp_lr.plot(ax=plt.subplot(2,2,2))\n",
    "plt.title(\"Logistic Regression Confusion Matrix\")\n",
    "\n",
    "cm_disp_nb = ConfusionMatrixDisplay(confusion_matrix=cm_nb, display_labels=['nottheonion', 'TheOnion'])\n",
    "cm_disp_nb.plot(ax=plt.subplot(2,2,3))\n",
    "plt.title(\"Multinomial Naive Bayes Confusion Matrix\")\n",
    "\n",
    "cm_disp_svc = ConfusionMatrixDisplay(confusion_matrix=cm_svc, display_labels=['nottheonion', 'TheOnion'])\n",
    "cm_disp_svc.plot(ax=plt.subplot(2,2,4))\n",
    "plt.title(\"Support Vector Classifier Confusion Matrix\");"
   ]
  },
  {
   "cell_type": "markdown",
   "id": "cbb0a5a0-75fd-4b4f-b81d-cea54b39f066",
   "metadata": {},
   "source": [
    "From the confusion matrices, it shows that Support Vector Classifier has the most balanced false postives and false negatives, while the other 3 models had more false negatives. On the other hand, Logistic Regression and Multinomial Naive Bayes had less false negatives. If the goal was to minimise false negatives, i.e. minimise falsely classifying a post from r/nottheonion as a post from r/TheOnion, Logistic Regression or Multinomial Naive Bayes might be a better choice, but since neither false positive nor false negative is more important than the other, Support Vector Classifier might be the better choice, based on the confusion matrix."
   ]
  },
  {
   "cell_type": "markdown",
   "id": "c3a0e99b-9e2e-4950-854b-a49897faa340",
   "metadata": {},
   "source": [
    "|                           | False Positive | False Negative | Ratio |\n",
    "|---------------------------|----------------|----------------|-------|\n",
    "| Random Forest Classifier  | 129            | 115            | 1.12  |\n",
    "| Logistic Regression       | 98             | 126            | 0.78  |\n",
    "| Multinomial Naive Bayes   | 81             | 140            | 0.58  |\n",
    "| Support Vector Classifier | 109            | 105            | 1.04  |"
   ]
  },
  {
   "cell_type": "markdown",
   "id": "196e5f4e-c5c3-45e2-9ba5-9898b85f6773",
   "metadata": {},
   "source": [
    "Looking at the ratio of false positives to false negatives, as we want a balanced ratio, the ideal model would have a ratio of 1. The Support Vector Classifier has a ratio that is closest to 1, which coincides with our earlier evaluations & observations."
   ]
  },
  {
   "cell_type": "markdown",
   "id": "99523461-67e1-4943-bbae-6f98fabf66d5",
   "metadata": {},
   "source": [
    "From the above, we can conclude that the best model here is the Support Vector Classifier. It has the highest accuracy and F1 score, highest ROC curve & highest ROC AUC value, as well as having balanced false positives and false negatives.\n",
    "\n",
    "A few reasons why the Support Vector Classifier is performing better than the other 3 models could be that the boundaries between the 2 classes are non-linear, and Support Vector Machines are highly effective in high-dimension data, which is common for NLP data.\n",
    "\n",
    "Unfortunately, as Support Vector Machines are a blackbox model, we will not be able to further interpret the models results and gain insight as to what features are most likely to lead to the post being classified as belonging to r/TheOnion or not. However, since we are more interested in the predicting power, it is an acceptable drawback."
   ]
  },
  {
   "cell_type": "markdown",
   "id": "ce82701a-3702-4e99-9ef8-e5a2fbf1839f",
   "metadata": {},
   "source": [
    "Conclusion and Recommendations\n",
    "---"
   ]
  },
  {
   "cell_type": "markdown",
   "id": "259c80b1-fdec-4874-bdc6-4f16f77390e3",
   "metadata": {},
   "source": [
    "We were tasked to build classification model that could classify whether a post belonged to r/TheOnion or r/nottheonion based solely on the post titles, given that only the post titles were recovered from the deleted data. The best performing model was a Support Vector Classifier model which had features created using the TfidfVectorizer. TfidfVectorizer is preferred over CountVectorizer as it got better results when loading the vectorized data into the models, and also it gives the different words a different weight based on how often it appears whereas CountVectorizer simply counts the number of occurrences which may not be as useful.  The model was able to predict with an accuracy of 78.6% and has a F1-score of 79.7%.\n",
    "\n",
    "Hence, with an accuracy score of almost 80%, we are confident of correctly classifying 7-8 out of every 10 deleted posts. We therefore recommend using the Support Vector Classifier with TfidfVectorizer to classify the recovered deleted posts. For the posts that were wrongly classified, we would have to rely on user reports and/or manual verification by the moderators of the respective subreddits. The results also show that classification models would be feasible to be used in the development of automated moderators.\n",
    "\n",
    "To improve the model, more data can be gathered to train the model since machine learning models can always benefit from more data. Another thing we could do is to examine the text more closely, to remove more words as stopwords. We could also look into engineering more features using the metadata of reddit posts, like word count, character count, sentiment analysis etc."
   ]
  },
  {
   "cell_type": "code",
   "execution_count": null,
   "id": "def946b5-50b9-4adf-8e89-cc24f7c57c93",
   "metadata": {},
   "outputs": [],
   "source": []
  }
 ],
 "metadata": {
  "kernelspec": {
   "display_name": "Python 3",
   "language": "python",
   "name": "python3"
  },
  "language_info": {
   "codemirror_mode": {
    "name": "ipython",
    "version": 3
   },
   "file_extension": ".py",
   "mimetype": "text/x-python",
   "name": "python",
   "nbconvert_exporter": "python",
   "pygments_lexer": "ipython3",
   "version": "3.8.8"
  }
 },
 "nbformat": 4,
 "nbformat_minor": 5
}
