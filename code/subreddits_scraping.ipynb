{
 "cells": [
  {
   "cell_type": "markdown",
   "id": "be495ebc-064f-449f-b3e1-238df6b9337a",
   "metadata": {},
   "source": [
    "## Imports"
   ]
  },
  {
   "cell_type": "code",
   "execution_count": 1,
   "id": "22fc6299-4862-45bc-923d-923258f11630",
   "metadata": {},
   "outputs": [],
   "source": [
    "import requests\n",
    "import pandas as pd\n",
    "import time"
   ]
  },
  {
   "cell_type": "markdown",
   "id": "d3087643-d7d4-437e-8f25-605e80e1114c",
   "metadata": {},
   "source": [
    "## Scraping of subreddit posts using PushShift API"
   ]
  },
  {
   "cell_type": "code",
   "execution_count": 2,
   "id": "62c18b8b-976c-4dec-92b0-1cf527313ffc",
   "metadata": {
    "tags": []
   },
   "outputs": [
    {
     "name": "stdout",
     "output_type": "stream",
     "text": [
      "Posts #1 to #98 from r/theonion request status code: 200\n",
      "Posts #99 to #193 from r/theonion request status code: 200\n",
      "Posts #194 to #287 from r/theonion request status code: 200\n",
      "Posts #288 to #382 from r/theonion request status code: 200\n",
      "Posts #383 to #476 from r/theonion request status code: 200\n",
      "Posts #477 to #571 from r/theonion request status code: 200\n",
      "Posts #572 to #666 from r/theonion request status code: 200\n",
      "Posts #667 to #763 from r/theonion request status code: 200\n",
      "Posts #764 to #845 from r/theonion request status code: 200\n",
      "Posts #846 to #939 from r/theonion request status code: 200\n",
      "Posts #940 to #1033 from r/theonion request status code: 200\n",
      "Posts #1034 to #1128 from r/theonion request status code: 200\n",
      "Posts #1129 to #1220 from r/theonion request status code: 200\n",
      "Posts #1221 to #1311 from r/theonion request status code: 200\n",
      "Posts #1312 to #1404 from r/theonion request status code: 200\n",
      "Posts #1405 to #1494 from r/theonion request status code: 200\n",
      "Posts #1495 to #1585 from r/theonion request status code: 200\n",
      "Posts #1586 to #1672 from r/theonion request status code: 200\n",
      "Posts #1673 to #1762 from r/theonion request status code: 200\n",
      "Posts #1763 to #1857 from r/theonion request status code: 200\n",
      "Posts #1858 to #1945 from r/theonion request status code: 200\n",
      "Posts #1946 to #2000 from r/theonion request status code: 200\n",
      "=====\n",
      "Posts #1 to #84 from r/nottheonion request status code: 200\n",
      "Posts #85 to #170 from r/nottheonion request status code: 200\n",
      "Posts #171 to #244 from r/nottheonion request status code: 200\n",
      "Posts #245 to #314 from r/nottheonion request status code: 200\n",
      "Posts #315 to #381 from r/nottheonion request status code: 200\n",
      "Posts #382 to #459 from r/nottheonion request status code: 200\n",
      "Posts #460 to #536 from r/nottheonion request status code: 200\n",
      "Posts #537 to #630 from r/nottheonion request status code: 200\n",
      "Posts #631 to #705 from r/nottheonion request status code: 200\n",
      "Posts #706 to #776 from r/nottheonion request status code: 200\n",
      "Posts #777 to #859 from r/nottheonion request status code: 200\n",
      "Posts #860 to #940 from r/nottheonion request status code: 200\n",
      "Posts #941 to #1025 from r/nottheonion request status code: 200\n",
      "Posts #1026 to #1119 from r/nottheonion request status code: 200\n",
      "Posts #1120 to #1210 from r/nottheonion request status code: 200\n",
      "Posts #1211 to #1282 from r/nottheonion request status code: 200\n",
      "Posts #1283 to #1358 from r/nottheonion request status code: 200\n",
      "Posts #1359 to #1413 from r/nottheonion request status code: 200\n",
      "Posts #1414 to #1468 from r/nottheonion request status code: 200\n",
      "Posts #1469 to #1522 from r/nottheonion request status code: 200\n",
      "Posts #1523 to #1573 from r/nottheonion request status code: 200\n",
      "Posts #1574 to #1638 from r/nottheonion request status code: 200\n",
      "Posts #1639 to #1681 from r/nottheonion request status code: 200\n",
      "Posts #1682 to #1739 from r/nottheonion request status code: 200\n",
      "Posts #1740 to #1826 from r/nottheonion request status code: 200\n",
      "Posts #1827 to #1914 from r/nottheonion request status code: 200\n",
      "Posts #1915 to #2000 from r/nottheonion request status code: 200\n",
      "=====\n"
     ]
    }
   ],
   "source": [
    "# scraping posts from r/theonion and r/nottheonion\n",
    "subreddits = [\"theonion\",\"nottheonion\"]\n",
    "url = \"https://api.pushshift.io/reddit/search/submission\"\n",
    "params = {\"size\": 100}\n",
    "posts_master = []\n",
    "iter_count = 0\n",
    "posts_to_scrape = 2000\n",
    "\n",
    "for subreddit in subreddits:    \n",
    "    params[\"subreddit\"] = subreddit\n",
    "    # scraping posts from before 01 Jan 2022 12:00:00 AM GMT\n",
    "    # 01 Jan 2022 12:00:00 AM GMT is 1640995200 in unix time\n",
    "    params[\"before\"] = 1640995200\n",
    "    posts = []\n",
    "    url_titles_set = set()\n",
    "    \n",
    "    while len(posts) < posts_to_scrape:\n",
    "        # saving the length of posts at the start of the iteration to print progress\n",
    "        posts_start_len = len(posts)\n",
    "        \n",
    "        # PushShift's request limit is 60 requests per minute as of Jan 2022\n",
    "        # time.sleep(1) will ensure that the fastest request rate would be 1 request per second so it will not exceed 60 requests per minute\n",
    "        time.sleep(1)\n",
    "\n",
    "        res = requests.get(url, params)\n",
    "        data = res.json()\n",
    "        \n",
    "        # looping through the response to check for reposts\n",
    "        for i in range(len(data['data'])):                        \n",
    "            # posts could be reposts for karma farming, we will exclude reposts so that there are no repeated data points\n",
    "            # reposts can take the form of same title same url, same title different url or different title same url\n",
    "            # only append to posts if it is not a repost\n",
    "            if data['data'][i]['title'] not in url_titles_set and data['data'][i]['url'] not in url_titles_set:\n",
    "                posts.append(data['data'][i])\n",
    "                # adding the title and url to a set for repost searching\n",
    "                url_titles_set.add(data['data'][i]['title'])\n",
    "                url_titles_set.add(data['data'][i]['url'])\n",
    "            \n",
    "            # exit loop once 1500 posts have been added\n",
    "            if len(posts) >= posts_to_scrape:\n",
    "                break\n",
    "        \n",
    "        # print progress of scraping and request status code\n",
    "        print(f\"Posts #{posts_start_len + 1} to #{len(posts)} from r/{subreddit} request status code: {res.status_code}\")\n",
    "        # setting \"before\" to the earliest post we have scraped so that we don't scrape the same posts again\n",
    "        params[\"before\"] = posts[len(posts)-1]['created_utc']\n",
    "    \n",
    "    # extend() instead of append() as we don't want list of lists\n",
    "    posts_master.extend(posts)\n",
    "    # separator for progress printing\n",
    "    print(\"=====\")"
   ]
  },
  {
   "cell_type": "code",
   "execution_count": 3,
   "id": "45902c2a-1ee0-4eab-8f3c-7ca01c5b0cd5",
   "metadata": {},
   "outputs": [
    {
     "name": "stdout",
     "output_type": "stream",
     "text": [
      "(4000, 77)\n"
     ]
    },
    {
     "data": {
      "text/html": [
       "<div>\n",
       "<style scoped>\n",
       "    .dataframe tbody tr th:only-of-type {\n",
       "        vertical-align: middle;\n",
       "    }\n",
       "\n",
       "    .dataframe tbody tr th {\n",
       "        vertical-align: top;\n",
       "    }\n",
       "\n",
       "    .dataframe thead th {\n",
       "        text-align: right;\n",
       "    }\n",
       "</style>\n",
       "<table border=\"1\" class=\"dataframe\">\n",
       "  <thead>\n",
       "    <tr style=\"text-align: right;\">\n",
       "      <th></th>\n",
       "      <th>all_awardings</th>\n",
       "      <th>allow_live_comments</th>\n",
       "      <th>author</th>\n",
       "      <th>author_flair_css_class</th>\n",
       "      <th>author_flair_richtext</th>\n",
       "      <th>author_flair_text</th>\n",
       "      <th>author_flair_type</th>\n",
       "      <th>author_fullname</th>\n",
       "      <th>author_is_blocked</th>\n",
       "      <th>author_patreon_flair</th>\n",
       "      <th>...</th>\n",
       "      <th>media</th>\n",
       "      <th>media_embed</th>\n",
       "      <th>secure_media</th>\n",
       "      <th>secure_media_embed</th>\n",
       "      <th>gallery_data</th>\n",
       "      <th>is_gallery</th>\n",
       "      <th>media_metadata</th>\n",
       "      <th>author_flair_background_color</th>\n",
       "      <th>author_flair_text_color</th>\n",
       "      <th>author_cakeday</th>\n",
       "    </tr>\n",
       "  </thead>\n",
       "  <tbody>\n",
       "    <tr>\n",
       "      <th>0</th>\n",
       "      <td>[]</td>\n",
       "      <td>False</td>\n",
       "      <td>mothershipq</td>\n",
       "      <td>None</td>\n",
       "      <td>[]</td>\n",
       "      <td>None</td>\n",
       "      <td>text</td>\n",
       "      <td>t2_4negm</td>\n",
       "      <td>False</td>\n",
       "      <td>False</td>\n",
       "      <td>...</td>\n",
       "      <td>NaN</td>\n",
       "      <td>NaN</td>\n",
       "      <td>NaN</td>\n",
       "      <td>NaN</td>\n",
       "      <td>NaN</td>\n",
       "      <td>NaN</td>\n",
       "      <td>NaN</td>\n",
       "      <td>NaN</td>\n",
       "      <td>NaN</td>\n",
       "      <td>NaN</td>\n",
       "    </tr>\n",
       "    <tr>\n",
       "      <th>1</th>\n",
       "      <td>[]</td>\n",
       "      <td>False</td>\n",
       "      <td>-ImYourHuckleberry-</td>\n",
       "      <td>None</td>\n",
       "      <td>[]</td>\n",
       "      <td>None</td>\n",
       "      <td>text</td>\n",
       "      <td>t2_g3p2c</td>\n",
       "      <td>False</td>\n",
       "      <td>False</td>\n",
       "      <td>...</td>\n",
       "      <td>NaN</td>\n",
       "      <td>NaN</td>\n",
       "      <td>NaN</td>\n",
       "      <td>NaN</td>\n",
       "      <td>NaN</td>\n",
       "      <td>NaN</td>\n",
       "      <td>NaN</td>\n",
       "      <td>NaN</td>\n",
       "      <td>NaN</td>\n",
       "      <td>NaN</td>\n",
       "    </tr>\n",
       "    <tr>\n",
       "      <th>2</th>\n",
       "      <td>[]</td>\n",
       "      <td>False</td>\n",
       "      <td>dwaxe</td>\n",
       "      <td>None</td>\n",
       "      <td>[]</td>\n",
       "      <td>None</td>\n",
       "      <td>text</td>\n",
       "      <td>t2_3jamc</td>\n",
       "      <td>False</td>\n",
       "      <td>False</td>\n",
       "      <td>...</td>\n",
       "      <td>NaN</td>\n",
       "      <td>NaN</td>\n",
       "      <td>NaN</td>\n",
       "      <td>NaN</td>\n",
       "      <td>NaN</td>\n",
       "      <td>NaN</td>\n",
       "      <td>NaN</td>\n",
       "      <td>NaN</td>\n",
       "      <td>NaN</td>\n",
       "      <td>NaN</td>\n",
       "    </tr>\n",
       "    <tr>\n",
       "      <th>3</th>\n",
       "      <td>[]</td>\n",
       "      <td>False</td>\n",
       "      <td>dwaxe</td>\n",
       "      <td>None</td>\n",
       "      <td>[]</td>\n",
       "      <td>None</td>\n",
       "      <td>text</td>\n",
       "      <td>t2_3jamc</td>\n",
       "      <td>False</td>\n",
       "      <td>False</td>\n",
       "      <td>...</td>\n",
       "      <td>NaN</td>\n",
       "      <td>NaN</td>\n",
       "      <td>NaN</td>\n",
       "      <td>NaN</td>\n",
       "      <td>NaN</td>\n",
       "      <td>NaN</td>\n",
       "      <td>NaN</td>\n",
       "      <td>NaN</td>\n",
       "      <td>NaN</td>\n",
       "      <td>NaN</td>\n",
       "    </tr>\n",
       "    <tr>\n",
       "      <th>4</th>\n",
       "      <td>[]</td>\n",
       "      <td>False</td>\n",
       "      <td>dwaxe</td>\n",
       "      <td>None</td>\n",
       "      <td>[]</td>\n",
       "      <td>None</td>\n",
       "      <td>text</td>\n",
       "      <td>t2_3jamc</td>\n",
       "      <td>False</td>\n",
       "      <td>False</td>\n",
       "      <td>...</td>\n",
       "      <td>NaN</td>\n",
       "      <td>NaN</td>\n",
       "      <td>NaN</td>\n",
       "      <td>NaN</td>\n",
       "      <td>NaN</td>\n",
       "      <td>NaN</td>\n",
       "      <td>NaN</td>\n",
       "      <td>NaN</td>\n",
       "      <td>NaN</td>\n",
       "      <td>NaN</td>\n",
       "    </tr>\n",
       "  </tbody>\n",
       "</table>\n",
       "<p>5 rows × 77 columns</p>\n",
       "</div>"
      ],
      "text/plain": [
       "  all_awardings  allow_live_comments               author  \\\n",
       "0            []                False          mothershipq   \n",
       "1            []                False  -ImYourHuckleberry-   \n",
       "2            []                False                dwaxe   \n",
       "3            []                False                dwaxe   \n",
       "4            []                False                dwaxe   \n",
       "\n",
       "  author_flair_css_class author_flair_richtext author_flair_text  \\\n",
       "0                   None                    []              None   \n",
       "1                   None                    []              None   \n",
       "2                   None                    []              None   \n",
       "3                   None                    []              None   \n",
       "4                   None                    []              None   \n",
       "\n",
       "  author_flair_type author_fullname author_is_blocked author_patreon_flair  \\\n",
       "0              text        t2_4negm             False                False   \n",
       "1              text        t2_g3p2c             False                False   \n",
       "2              text        t2_3jamc             False                False   \n",
       "3              text        t2_3jamc             False                False   \n",
       "4              text        t2_3jamc             False                False   \n",
       "\n",
       "   ... media media_embed  secure_media  secure_media_embed  gallery_data  \\\n",
       "0  ...   NaN         NaN           NaN                 NaN           NaN   \n",
       "1  ...   NaN         NaN           NaN                 NaN           NaN   \n",
       "2  ...   NaN         NaN           NaN                 NaN           NaN   \n",
       "3  ...   NaN         NaN           NaN                 NaN           NaN   \n",
       "4  ...   NaN         NaN           NaN                 NaN           NaN   \n",
       "\n",
       "  is_gallery media_metadata author_flair_background_color  \\\n",
       "0        NaN            NaN                           NaN   \n",
       "1        NaN            NaN                           NaN   \n",
       "2        NaN            NaN                           NaN   \n",
       "3        NaN            NaN                           NaN   \n",
       "4        NaN            NaN                           NaN   \n",
       "\n",
       "  author_flair_text_color author_cakeday  \n",
       "0                     NaN            NaN  \n",
       "1                     NaN            NaN  \n",
       "2                     NaN            NaN  \n",
       "3                     NaN            NaN  \n",
       "4                     NaN            NaN  \n",
       "\n",
       "[5 rows x 77 columns]"
      ]
     },
     "execution_count": 3,
     "metadata": {},
     "output_type": "execute_result"
    }
   ],
   "source": [
    "df = pd.DataFrame(posts_master)\n",
    "print(df.shape)\n",
    "df.head()"
   ]
  },
  {
   "cell_type": "code",
   "execution_count": 4,
   "id": "bdf73d1a-60ce-441f-8a77-1cf5343d5c63",
   "metadata": {},
   "outputs": [
    {
     "data": {
      "text/plain": [
       "nottheonion    2000\n",
       "TheOnion       2000\n",
       "Name: subreddit, dtype: int64"
      ]
     },
     "execution_count": 4,
     "metadata": {},
     "output_type": "execute_result"
    }
   ],
   "source": [
    "# Verifying that 3000 posts from each subreddit were scraped\n",
    "df['subreddit'].value_counts()"
   ]
  },
  {
   "cell_type": "code",
   "execution_count": 5,
   "id": "8f99bf13-1832-4c64-a888-d370c9a21ff3",
   "metadata": {},
   "outputs": [
    {
     "data": {
      "text/plain": [
       "subreddit\n",
       "TheOnion       2000\n",
       "nottheonion    2000\n",
       "Name: id, dtype: int64"
      ]
     },
     "execution_count": 5,
     "metadata": {},
     "output_type": "execute_result"
    }
   ],
   "source": [
    "# Verifying that 3000 unique posts were scraped from each subreddit i.e. no duplicate posts\n",
    "df.groupby('subreddit')['id'].nunique()"
   ]
  },
  {
   "cell_type": "code",
   "execution_count": 6,
   "id": "91d3d4c6-80f5-43a8-9516-8a92736570fd",
   "metadata": {},
   "outputs": [
    {
     "data": {
      "text/plain": [
       "subreddit\n",
       "TheOnion       2000\n",
       "nottheonion    2000\n",
       "Name: title, dtype: int64"
      ]
     },
     "execution_count": 6,
     "metadata": {},
     "output_type": "execute_result"
    }
   ],
   "source": [
    "# Verifying that 3000 unique posts were scraped from each subreddit i.e. no reposts based on post title\n",
    "df.groupby('subreddit')['title'].nunique()"
   ]
  },
  {
   "cell_type": "code",
   "execution_count": 7,
   "id": "83ac01ec-7400-4ef2-a316-b0ec23a17cf7",
   "metadata": {},
   "outputs": [
    {
     "data": {
      "text/plain": [
       "subreddit\n",
       "TheOnion       2000\n",
       "nottheonion    2000\n",
       "Name: url, dtype: int64"
      ]
     },
     "execution_count": 7,
     "metadata": {},
     "output_type": "execute_result"
    }
   ],
   "source": [
    "# Verifying that 3000 unique posts were scraped from each subreddit i.e. no reposts based on post url\n",
    "df.groupby('subreddit')['url'].nunique()"
   ]
  },
  {
   "cell_type": "code",
   "execution_count": 8,
   "id": "9db1ad75-85b1-47b6-94f7-e2a87eb73e1c",
   "metadata": {
    "scrolled": true
   },
   "outputs": [
    {
     "name": "stdout",
     "output_type": "stream",
     "text": [
      "<class 'pandas.core.frame.DataFrame'>\n",
      "RangeIndex: 4000 entries, 0 to 3999\n",
      "Data columns (total 77 columns):\n",
      " #   Column                         Non-Null Count  Dtype  \n",
      "---  ------                         --------------  -----  \n",
      " 0   all_awardings                  4000 non-null   object \n",
      " 1   allow_live_comments            4000 non-null   bool   \n",
      " 2   author                         4000 non-null   object \n",
      " 3   author_flair_css_class         3 non-null      object \n",
      " 4   author_flair_richtext          3949 non-null   object \n",
      " 5   author_flair_text              1 non-null      object \n",
      " 6   author_flair_type              3949 non-null   object \n",
      " 7   author_fullname                3949 non-null   object \n",
      " 8   author_is_blocked              2564 non-null   object \n",
      " 9   author_patreon_flair           3949 non-null   object \n",
      " 10  author_premium                 3949 non-null   object \n",
      " 11  awarders                       4000 non-null   object \n",
      " 12  can_mod_post                   4000 non-null   bool   \n",
      " 13  contest_mode                   4000 non-null   bool   \n",
      " 14  created_utc                    4000 non-null   int64  \n",
      " 15  domain                         4000 non-null   object \n",
      " 16  full_link                      4000 non-null   object \n",
      " 17  gildings                       4000 non-null   object \n",
      " 18  id                             4000 non-null   object \n",
      " 19  is_created_from_ads_ui         2719 non-null   object \n",
      " 20  is_crosspostable               4000 non-null   bool   \n",
      " 21  is_meta                        4000 non-null   bool   \n",
      " 22  is_original_content            4000 non-null   bool   \n",
      " 23  is_reddit_media_domain         4000 non-null   bool   \n",
      " 24  is_robot_indexable             4000 non-null   bool   \n",
      " 25  is_self                        4000 non-null   bool   \n",
      " 26  is_video                       4000 non-null   bool   \n",
      " 27  link_flair_background_color    4000 non-null   object \n",
      " 28  link_flair_richtext            4000 non-null   object \n",
      " 29  link_flair_text_color          4000 non-null   object \n",
      " 30  link_flair_type                4000 non-null   object \n",
      " 31  locked                         4000 non-null   bool   \n",
      " 32  media_only                     4000 non-null   bool   \n",
      " 33  no_follow                      4000 non-null   bool   \n",
      " 34  num_comments                   4000 non-null   int64  \n",
      " 35  num_crossposts                 4000 non-null   int64  \n",
      " 36  over_18                        4000 non-null   bool   \n",
      " 37  parent_whitelist_status        4000 non-null   object \n",
      " 38  permalink                      4000 non-null   object \n",
      " 39  pinned                         4000 non-null   bool   \n",
      " 40  post_hint                      3646 non-null   object \n",
      " 41  preview                        3646 non-null   object \n",
      " 42  pwls                           4000 non-null   int64  \n",
      " 43  retrieved_on                   4000 non-null   int64  \n",
      " 44  score                          4000 non-null   int64  \n",
      " 45  selftext                       4000 non-null   object \n",
      " 46  send_replies                   4000 non-null   bool   \n",
      " 47  spoiler                        4000 non-null   bool   \n",
      " 48  stickied                       4000 non-null   bool   \n",
      " 49  subreddit                      4000 non-null   object \n",
      " 50  subreddit_id                   4000 non-null   object \n",
      " 51  subreddit_subscribers          4000 non-null   int64  \n",
      " 52  subreddit_type                 4000 non-null   object \n",
      " 53  thumbnail                      4000 non-null   object \n",
      " 54  thumbnail_height               3710 non-null   float64\n",
      " 55  thumbnail_width                3710 non-null   float64\n",
      " 56  title                          4000 non-null   object \n",
      " 57  total_awards_received          4000 non-null   int64  \n",
      " 58  treatment_tags                 4000 non-null   object \n",
      " 59  upvote_ratio                   4000 non-null   float64\n",
      " 60  url                            4000 non-null   object \n",
      " 61  url_overridden_by_dest         3926 non-null   object \n",
      " 62  whitelist_status               4000 non-null   object \n",
      " 63  wls                            4000 non-null   int64  \n",
      " 64  crosspost_parent               217 non-null    object \n",
      " 65  crosspost_parent_list          217 non-null    object \n",
      " 66  removed_by_category            1389 non-null   object \n",
      " 67  media                          248 non-null    object \n",
      " 68  media_embed                    247 non-null    object \n",
      " 69  secure_media                   248 non-null    object \n",
      " 70  secure_media_embed             247 non-null    object \n",
      " 71  gallery_data                   3 non-null      object \n",
      " 72  is_gallery                     5 non-null      object \n",
      " 73  media_metadata                 3 non-null      object \n",
      " 74  author_flair_background_color  54 non-null     object \n",
      " 75  author_flair_text_color        54 non-null     object \n",
      " 76  author_cakeday                 9 non-null      object \n",
      "dtypes: bool(18), float64(3), int64(9), object(47)\n",
      "memory usage: 1.9+ MB\n"
     ]
    }
   ],
   "source": [
    "# looking at the columns and which ones have null values\n",
    "df.info()"
   ]
  },
  {
   "cell_type": "code",
   "execution_count": 9,
   "id": "c53c7173-b36b-4723-9ebe-f4158814b3fa",
   "metadata": {},
   "outputs": [],
   "source": [
    "# Keeping only the columns we want\n",
    "df=df[['author','created_utc','domain','full_link','id','subreddit','title','url']]"
   ]
  },
  {
   "cell_type": "code",
   "execution_count": 10,
   "id": "3ee2e170-b1ba-45cf-aacd-9a34e41be29e",
   "metadata": {},
   "outputs": [
    {
     "data": {
      "text/plain": [
       "author         0\n",
       "created_utc    0\n",
       "domain         0\n",
       "full_link      0\n",
       "id             0\n",
       "subreddit      0\n",
       "title          0\n",
       "url            0\n",
       "dtype: int64"
      ]
     },
     "execution_count": 10,
     "metadata": {},
     "output_type": "execute_result"
    }
   ],
   "source": [
    "# checking for null values\n",
    "df.isna().sum()"
   ]
  },
  {
   "cell_type": "markdown",
   "id": "045b8778-a15d-469c-9cb3-178126906456",
   "metadata": {},
   "source": [
    "No null values found"
   ]
  },
  {
   "cell_type": "markdown",
   "id": "c0e78ec2-ba9c-4342-b83a-3d2d225ee2f2",
   "metadata": {},
   "source": [
    "## Export to CSV"
   ]
  },
  {
   "cell_type": "code",
   "execution_count": 11,
   "id": "b78642b5-c2aa-4416-a2bc-ff9bc244c3c7",
   "metadata": {},
   "outputs": [],
   "source": [
    "df.to_csv('../data/theonion_nottheonion_posts.csv',index = False,encoding='utf-8-sig')"
   ]
  },
  {
   "cell_type": "code",
   "execution_count": null,
   "id": "c6ba1c9f-01ee-4094-9155-33c2327fb2c2",
   "metadata": {},
   "outputs": [],
   "source": []
  }
 ],
 "metadata": {
  "kernelspec": {
   "display_name": "Python 3",
   "language": "python",
   "name": "python3"
  },
  "language_info": {
   "codemirror_mode": {
    "name": "ipython",
    "version": 3
   },
   "file_extension": ".py",
   "mimetype": "text/x-python",
   "name": "python",
   "nbconvert_exporter": "python",
   "pygments_lexer": "ipython3",
   "version": "3.8.8"
  }
 },
 "nbformat": 4,
 "nbformat_minor": 5
}
